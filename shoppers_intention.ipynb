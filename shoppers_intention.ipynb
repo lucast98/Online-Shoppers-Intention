{
 "cells": [
  {
   "cell_type": "markdown",
   "id": "5c8108b1",
   "metadata": {
    "cell_id": "00000-ed5fc9b7-9dc8-4918-93cc-b0e32939271e",
    "deepnote_cell_type": "markdown",
    "tags": []
   },
   "source": [
    "## SME0828 - Introdução à Ciência de Dados (2021)\n",
    "### Projeto Final\n",
    "Análise da base de dados 'Online Shoppers Intention'<br>\n",
    "Lucas Tavares dos Santos - 10295180<br>\n",
    "Renata Oliveira Brito - 10373663"
   ]
  },
  {
   "cell_type": "code",
   "execution_count": 1,
   "id": "3974025b",
   "metadata": {
    "cell_id": "00000-879aaa36-9057-42b6-a002-509aa64b1147",
    "deepnote_cell_type": "code",
    "deepnote_to_be_reexecuted": false,
    "execution_millis": 4394,
    "execution_start": 1639606410430,
    "source_hash": "d6f0b40f"
   },
   "outputs": [],
   "source": [
    "import pandas as pd\n",
    "import matplotlib.pyplot as plt\n",
    "import seaborn as sns\n",
    "import numpy as np"
   ]
  },
  {
   "cell_type": "markdown",
   "id": "4c64c703",
   "metadata": {
    "cell_id": "00001-34f67275-ee51-41e8-ade0-4110e68836ba",
    "deepnote_cell_type": "markdown",
    "tags": []
   },
   "source": [
    "Fazendo a leitura da base de dados retirada do site https://archive.ics.uci.edu/ml/datasets/Online+Shoppers+Purchasing+Intention+Dataset, temos:"
   ]
  },
  {
   "cell_type": "code",
   "execution_count": 2,
   "id": "57df8e71",
   "metadata": {
    "cell_id": "00002-4140c036-c005-4f5e-abde-d2db8a4df98c",
    "deepnote_cell_type": "code",
    "deepnote_to_be_reexecuted": false,
    "execution_millis": 365,
    "execution_start": 1639606414830,
    "source_hash": "2e78880f"
   },
   "outputs": [],
   "source": [
    "#df = pd.read_csv('/work/online_shoppers_intention.csv')\n",
    "df = pd.read_csv('C:/Users/lucas/Documents/USP/ICD/Online Shoppers Intention/online_shoppers_intention.csv')"
   ]
  },
  {
   "cell_type": "code",
   "execution_count": 3,
   "id": "719cd49a",
   "metadata": {
    "cell_id": "00003-3930a6ca-b117-43fd-8890-13f2c11ff14f",
    "deepnote_cell_type": "code",
    "deepnote_output_heights": [
     192
    ],
    "deepnote_to_be_reexecuted": false,
    "execution_millis": 228,
    "execution_start": 1639606415221,
    "source_hash": "245876d0"
   },
   "outputs": [
    {
     "data": {
      "text/html": [
       "<div>\n",
       "<style scoped>\n",
       "    .dataframe tbody tr th:only-of-type {\n",
       "        vertical-align: middle;\n",
       "    }\n",
       "\n",
       "    .dataframe tbody tr th {\n",
       "        vertical-align: top;\n",
       "    }\n",
       "\n",
       "    .dataframe thead th {\n",
       "        text-align: right;\n",
       "    }\n",
       "</style>\n",
       "<table border=\"1\" class=\"dataframe\">\n",
       "  <thead>\n",
       "    <tr style=\"text-align: right;\">\n",
       "      <th></th>\n",
       "      <th>Administrative</th>\n",
       "      <th>Administrative_Duration</th>\n",
       "      <th>Informational</th>\n",
       "      <th>Informational_Duration</th>\n",
       "      <th>ProductRelated</th>\n",
       "      <th>ProductRelated_Duration</th>\n",
       "      <th>BounceRates</th>\n",
       "      <th>ExitRates</th>\n",
       "      <th>PageValues</th>\n",
       "      <th>SpecialDay</th>\n",
       "      <th>Month</th>\n",
       "      <th>OperatingSystems</th>\n",
       "      <th>Browser</th>\n",
       "      <th>Region</th>\n",
       "      <th>TrafficType</th>\n",
       "      <th>VisitorType</th>\n",
       "      <th>Weekend</th>\n",
       "      <th>Revenue</th>\n",
       "    </tr>\n",
       "  </thead>\n",
       "  <tbody>\n",
       "    <tr>\n",
       "      <th>0</th>\n",
       "      <td>0</td>\n",
       "      <td>0.0</td>\n",
       "      <td>0</td>\n",
       "      <td>0.0</td>\n",
       "      <td>1</td>\n",
       "      <td>0.000000</td>\n",
       "      <td>0.20</td>\n",
       "      <td>0.20</td>\n",
       "      <td>0.0</td>\n",
       "      <td>0.0</td>\n",
       "      <td>Feb</td>\n",
       "      <td>1</td>\n",
       "      <td>1</td>\n",
       "      <td>1</td>\n",
       "      <td>1</td>\n",
       "      <td>Returning_Visitor</td>\n",
       "      <td>False</td>\n",
       "      <td>False</td>\n",
       "    </tr>\n",
       "    <tr>\n",
       "      <th>1</th>\n",
       "      <td>0</td>\n",
       "      <td>0.0</td>\n",
       "      <td>0</td>\n",
       "      <td>0.0</td>\n",
       "      <td>2</td>\n",
       "      <td>64.000000</td>\n",
       "      <td>0.00</td>\n",
       "      <td>0.10</td>\n",
       "      <td>0.0</td>\n",
       "      <td>0.0</td>\n",
       "      <td>Feb</td>\n",
       "      <td>2</td>\n",
       "      <td>2</td>\n",
       "      <td>1</td>\n",
       "      <td>2</td>\n",
       "      <td>Returning_Visitor</td>\n",
       "      <td>False</td>\n",
       "      <td>False</td>\n",
       "    </tr>\n",
       "    <tr>\n",
       "      <th>2</th>\n",
       "      <td>0</td>\n",
       "      <td>0.0</td>\n",
       "      <td>0</td>\n",
       "      <td>0.0</td>\n",
       "      <td>1</td>\n",
       "      <td>0.000000</td>\n",
       "      <td>0.20</td>\n",
       "      <td>0.20</td>\n",
       "      <td>0.0</td>\n",
       "      <td>0.0</td>\n",
       "      <td>Feb</td>\n",
       "      <td>4</td>\n",
       "      <td>1</td>\n",
       "      <td>9</td>\n",
       "      <td>3</td>\n",
       "      <td>Returning_Visitor</td>\n",
       "      <td>False</td>\n",
       "      <td>False</td>\n",
       "    </tr>\n",
       "    <tr>\n",
       "      <th>3</th>\n",
       "      <td>0</td>\n",
       "      <td>0.0</td>\n",
       "      <td>0</td>\n",
       "      <td>0.0</td>\n",
       "      <td>2</td>\n",
       "      <td>2.666667</td>\n",
       "      <td>0.05</td>\n",
       "      <td>0.14</td>\n",
       "      <td>0.0</td>\n",
       "      <td>0.0</td>\n",
       "      <td>Feb</td>\n",
       "      <td>3</td>\n",
       "      <td>2</td>\n",
       "      <td>2</td>\n",
       "      <td>4</td>\n",
       "      <td>Returning_Visitor</td>\n",
       "      <td>False</td>\n",
       "      <td>False</td>\n",
       "    </tr>\n",
       "    <tr>\n",
       "      <th>4</th>\n",
       "      <td>0</td>\n",
       "      <td>0.0</td>\n",
       "      <td>0</td>\n",
       "      <td>0.0</td>\n",
       "      <td>10</td>\n",
       "      <td>627.500000</td>\n",
       "      <td>0.02</td>\n",
       "      <td>0.05</td>\n",
       "      <td>0.0</td>\n",
       "      <td>0.0</td>\n",
       "      <td>Feb</td>\n",
       "      <td>3</td>\n",
       "      <td>3</td>\n",
       "      <td>1</td>\n",
       "      <td>4</td>\n",
       "      <td>Returning_Visitor</td>\n",
       "      <td>True</td>\n",
       "      <td>False</td>\n",
       "    </tr>\n",
       "  </tbody>\n",
       "</table>\n",
       "</div>"
      ],
      "text/plain": [
       "   Administrative  Administrative_Duration  Informational  \\\n",
       "0               0                      0.0              0   \n",
       "1               0                      0.0              0   \n",
       "2               0                      0.0              0   \n",
       "3               0                      0.0              0   \n",
       "4               0                      0.0              0   \n",
       "\n",
       "   Informational_Duration  ProductRelated  ProductRelated_Duration  \\\n",
       "0                     0.0               1                 0.000000   \n",
       "1                     0.0               2                64.000000   \n",
       "2                     0.0               1                 0.000000   \n",
       "3                     0.0               2                 2.666667   \n",
       "4                     0.0              10               627.500000   \n",
       "\n",
       "   BounceRates  ExitRates  PageValues  SpecialDay Month  OperatingSystems  \\\n",
       "0         0.20       0.20         0.0         0.0   Feb                 1   \n",
       "1         0.00       0.10         0.0         0.0   Feb                 2   \n",
       "2         0.20       0.20         0.0         0.0   Feb                 4   \n",
       "3         0.05       0.14         0.0         0.0   Feb                 3   \n",
       "4         0.02       0.05         0.0         0.0   Feb                 3   \n",
       "\n",
       "   Browser  Region  TrafficType        VisitorType  Weekend  Revenue  \n",
       "0        1       1            1  Returning_Visitor    False    False  \n",
       "1        2       1            2  Returning_Visitor    False    False  \n",
       "2        1       9            3  Returning_Visitor    False    False  \n",
       "3        2       2            4  Returning_Visitor    False    False  \n",
       "4        3       1            4  Returning_Visitor     True    False  "
      ]
     },
     "execution_count": 3,
     "metadata": {},
     "output_type": "execute_result"
    }
   ],
   "source": [
    "df.head(5)"
   ]
  },
  {
   "cell_type": "markdown",
   "id": "f6c990bb",
   "metadata": {
    "cell_id": "00004-f86d3ecf-487c-48db-8e3d-406546b03f18",
    "deepnote_cell_type": "markdown",
    "tags": []
   },
   "source": [
    "## Formulação do problema e preparo dos dados"
   ]
  },
  {
   "cell_type": "markdown",
   "id": "da5169eb",
   "metadata": {
    "cell_id": "00005-5fe54011-2de7-41aa-a4b5-b352f9eef116",
    "deepnote_cell_type": "text-cell-p",
    "is_collapsed": false,
    "tags": []
   },
   "source": [
    "Vamos considerar a base de dados Online Shoppers Intention."
   ]
  },
  {
   "cell_type": "markdown",
   "id": "7d825f27",
   "metadata": {
    "cell_id": "00006-7fb7dbbd-f3ed-496f-8696-b08635e536fb",
    "deepnote_cell_type": "markdown",
    "tags": []
   },
   "source": [
    "Nessa base, temos 10 atributos numéricos e 8 categóricos. Abaixo, temos os nomes de tais atributos:"
   ]
  },
  {
   "cell_type": "code",
   "execution_count": 4,
   "id": "855818b4",
   "metadata": {
    "cell_id": "00007-8718b967-d43d-478e-9a2e-30d4fba1328f",
    "deepnote_cell_type": "code",
    "deepnote_output_heights": [
     117.19999694824219
    ],
    "deepnote_to_be_reexecuted": false,
    "execution_millis": 29,
    "execution_start": 1639606421059,
    "source_hash": "25d43fa0",
    "tags": []
   },
   "outputs": [
    {
     "data": {
      "text/plain": [
       "Index(['Administrative', 'Administrative_Duration', 'Informational',\n",
       "       'Informational_Duration', 'ProductRelated', 'ProductRelated_Duration',\n",
       "       'BounceRates', 'ExitRates', 'PageValues', 'SpecialDay', 'Month',\n",
       "       'OperatingSystems', 'Browser', 'Region', 'TrafficType', 'VisitorType',\n",
       "       'Weekend', 'Revenue'],\n",
       "      dtype='object')"
      ]
     },
     "execution_count": 4,
     "metadata": {},
     "output_type": "execute_result"
    }
   ],
   "source": [
    "df.columns"
   ]
  },
  {
   "cell_type": "markdown",
   "id": "10c91e6f",
   "metadata": {
    "cell_id": "00008-ca650cd4-a9ce-441d-b820-0355bf469fc0",
    "deepnote_cell_type": "markdown",
    "tags": []
   },
   "source": [
    "1. Administrative: Representa o número de páginas de categoria Administrativa.<br>\n",
    "2. Administrative_Duration: Representa o tempo total gasto em páginas de categoria Administrativa.<br>\n",
    "3. Informational: Representa o número de páginas de categoria Informacional. <br>\n",
    "4. Informational_Duration: Representa o tempo total gasto em páginas de categoria Informacional. <br>\n",
    "5. ProductRelated: Representa o número de páginas de categoria Produtos Relacionados. <br>\n",
    "6. ProductRelated_Duration: Representa o tempo total gasto em páginas de categoria Produtos Relacionados.<br>\n",
    "7. BounceRates: Porcentagem de visitantes que entram no site e saem sem ativar nenhuma outra requisição para o servidor naquela sessão.<br>\n",
    "8. ExitRates: Taxa de saída da página web específica.<br>\n",
    "9. PageValues: Valor médio para uma página web que um usuário visitou antes de concluir uma transação e-commerce.<br>\n",
    "10. SpecialDay: Indica se a data de visita ao site é próxima a um dia comemorativo, no qual as sessões possuem maior chance de serem finalizadas com transações.<br>\n",
    "11. Month: Mês em que a sessão foi realizada.<br>\n",
    "12. OperatingSystems: Valores numéricas que representam o sistema operacional em que a sessão foi realizada.<br>\n",
    "13. Browser: Navegador em que a sessão foi realizada.<br>\n",
    "14. Region: Região de onde os usuários acessam o site.<br>\n",
    "15. TrafficType: Diferentes tipos de tráfegos em páginas web.<br>\n",
    "16. VisitorType: Diferentes tipos de visitantes da página web.<br>\n",
    "17. Weekend: Atributo booleano que representa se a sessão foi realizada em um final de semana ou não.<br>\n",
    "18. Revenue: Indica se houve receita ou não, ou seja, se a sessão resultou em venda. É a variável resposta da base."
   ]
  },
  {
   "cell_type": "markdown",
   "id": "82d161d1",
   "metadata": {
    "cell_id": "00009-58be8b67-a278-4bc5-8b00-fdb374dedd66",
    "deepnote_cell_type": "markdown",
    "tags": []
   },
   "source": [
    "Vemos que a base de dados possui a seguinte quantidade de linhas e colunas:"
   ]
  },
  {
   "cell_type": "code",
   "execution_count": 5,
   "id": "2224df5d",
   "metadata": {
    "cell_id": "00010-390e1be5-b57e-43d3-ae33-84a76c06faf8",
    "deepnote_cell_type": "code",
    "deepnote_to_be_reexecuted": false,
    "execution_millis": 4,
    "execution_start": 1639606432916,
    "source_hash": "b2e04461",
    "tags": []
   },
   "outputs": [
    {
     "name": "stdout",
     "output_type": "stream",
     "text": [
      "Número de linhas: 12330\n",
      "Número de colunas: 18\n"
     ]
    }
   ],
   "source": [
    "print(f'Número de linhas: {df.shape[0]}')\n",
    "print(f'Número de colunas: {df.shape[1]}')"
   ]
  },
  {
   "cell_type": "markdown",
   "id": "e1eb5eaa",
   "metadata": {
    "cell_id": "00011-ee00d88c-2cf6-4a52-b124-085c9771f903",
    "deepnote_cell_type": "markdown",
    "tags": []
   },
   "source": [
    "Vamos descrever os dados:"
   ]
  },
  {
   "cell_type": "code",
   "execution_count": 6,
   "id": "34dc4d6a",
   "metadata": {
    "cell_id": "00012-8a10a1a8-16c0-4311-bcbf-c8525f1c9fc7",
    "deepnote_cell_type": "code",
    "deepnote_output_heights": [
     278
    ],
    "deepnote_to_be_reexecuted": false,
    "execution_millis": 100,
    "execution_start": 1639606432997,
    "source_hash": "f88152d9",
    "tags": []
   },
   "outputs": [
    {
     "data": {
      "text/html": [
       "<div>\n",
       "<style scoped>\n",
       "    .dataframe tbody tr th:only-of-type {\n",
       "        vertical-align: middle;\n",
       "    }\n",
       "\n",
       "    .dataframe tbody tr th {\n",
       "        vertical-align: top;\n",
       "    }\n",
       "\n",
       "    .dataframe thead th {\n",
       "        text-align: right;\n",
       "    }\n",
       "</style>\n",
       "<table border=\"1\" class=\"dataframe\">\n",
       "  <thead>\n",
       "    <tr style=\"text-align: right;\">\n",
       "      <th></th>\n",
       "      <th>Administrative</th>\n",
       "      <th>Administrative_Duration</th>\n",
       "      <th>Informational</th>\n",
       "      <th>Informational_Duration</th>\n",
       "      <th>ProductRelated</th>\n",
       "      <th>ProductRelated_Duration</th>\n",
       "      <th>BounceRates</th>\n",
       "      <th>ExitRates</th>\n",
       "      <th>PageValues</th>\n",
       "      <th>SpecialDay</th>\n",
       "      <th>OperatingSystems</th>\n",
       "      <th>Browser</th>\n",
       "      <th>Region</th>\n",
       "      <th>TrafficType</th>\n",
       "    </tr>\n",
       "  </thead>\n",
       "  <tbody>\n",
       "    <tr>\n",
       "      <th>count</th>\n",
       "      <td>12330.000000</td>\n",
       "      <td>12330.000000</td>\n",
       "      <td>12330.000000</td>\n",
       "      <td>12330.000000</td>\n",
       "      <td>12330.000000</td>\n",
       "      <td>12330.000000</td>\n",
       "      <td>12330.000000</td>\n",
       "      <td>12330.000000</td>\n",
       "      <td>12330.000000</td>\n",
       "      <td>12330.000000</td>\n",
       "      <td>12330.000000</td>\n",
       "      <td>12330.000000</td>\n",
       "      <td>12330.000000</td>\n",
       "      <td>12330.000000</td>\n",
       "    </tr>\n",
       "    <tr>\n",
       "      <th>mean</th>\n",
       "      <td>2.315166</td>\n",
       "      <td>80.818611</td>\n",
       "      <td>0.503569</td>\n",
       "      <td>34.472398</td>\n",
       "      <td>31.731468</td>\n",
       "      <td>1194.746220</td>\n",
       "      <td>0.022191</td>\n",
       "      <td>0.043073</td>\n",
       "      <td>5.889258</td>\n",
       "      <td>0.061427</td>\n",
       "      <td>2.124006</td>\n",
       "      <td>2.357097</td>\n",
       "      <td>3.147364</td>\n",
       "      <td>4.069586</td>\n",
       "    </tr>\n",
       "    <tr>\n",
       "      <th>std</th>\n",
       "      <td>3.321784</td>\n",
       "      <td>176.779107</td>\n",
       "      <td>1.270156</td>\n",
       "      <td>140.749294</td>\n",
       "      <td>44.475503</td>\n",
       "      <td>1913.669288</td>\n",
       "      <td>0.048488</td>\n",
       "      <td>0.048597</td>\n",
       "      <td>18.568437</td>\n",
       "      <td>0.198917</td>\n",
       "      <td>0.911325</td>\n",
       "      <td>1.717277</td>\n",
       "      <td>2.401591</td>\n",
       "      <td>4.025169</td>\n",
       "    </tr>\n",
       "    <tr>\n",
       "      <th>min</th>\n",
       "      <td>0.000000</td>\n",
       "      <td>0.000000</td>\n",
       "      <td>0.000000</td>\n",
       "      <td>0.000000</td>\n",
       "      <td>0.000000</td>\n",
       "      <td>0.000000</td>\n",
       "      <td>0.000000</td>\n",
       "      <td>0.000000</td>\n",
       "      <td>0.000000</td>\n",
       "      <td>0.000000</td>\n",
       "      <td>1.000000</td>\n",
       "      <td>1.000000</td>\n",
       "      <td>1.000000</td>\n",
       "      <td>1.000000</td>\n",
       "    </tr>\n",
       "    <tr>\n",
       "      <th>25%</th>\n",
       "      <td>0.000000</td>\n",
       "      <td>0.000000</td>\n",
       "      <td>0.000000</td>\n",
       "      <td>0.000000</td>\n",
       "      <td>7.000000</td>\n",
       "      <td>184.137500</td>\n",
       "      <td>0.000000</td>\n",
       "      <td>0.014286</td>\n",
       "      <td>0.000000</td>\n",
       "      <td>0.000000</td>\n",
       "      <td>2.000000</td>\n",
       "      <td>2.000000</td>\n",
       "      <td>1.000000</td>\n",
       "      <td>2.000000</td>\n",
       "    </tr>\n",
       "    <tr>\n",
       "      <th>50%</th>\n",
       "      <td>1.000000</td>\n",
       "      <td>7.500000</td>\n",
       "      <td>0.000000</td>\n",
       "      <td>0.000000</td>\n",
       "      <td>18.000000</td>\n",
       "      <td>598.936905</td>\n",
       "      <td>0.003112</td>\n",
       "      <td>0.025156</td>\n",
       "      <td>0.000000</td>\n",
       "      <td>0.000000</td>\n",
       "      <td>2.000000</td>\n",
       "      <td>2.000000</td>\n",
       "      <td>3.000000</td>\n",
       "      <td>2.000000</td>\n",
       "    </tr>\n",
       "    <tr>\n",
       "      <th>75%</th>\n",
       "      <td>4.000000</td>\n",
       "      <td>93.256250</td>\n",
       "      <td>0.000000</td>\n",
       "      <td>0.000000</td>\n",
       "      <td>38.000000</td>\n",
       "      <td>1464.157214</td>\n",
       "      <td>0.016813</td>\n",
       "      <td>0.050000</td>\n",
       "      <td>0.000000</td>\n",
       "      <td>0.000000</td>\n",
       "      <td>3.000000</td>\n",
       "      <td>2.000000</td>\n",
       "      <td>4.000000</td>\n",
       "      <td>4.000000</td>\n",
       "    </tr>\n",
       "    <tr>\n",
       "      <th>max</th>\n",
       "      <td>27.000000</td>\n",
       "      <td>3398.750000</td>\n",
       "      <td>24.000000</td>\n",
       "      <td>2549.375000</td>\n",
       "      <td>705.000000</td>\n",
       "      <td>63973.522230</td>\n",
       "      <td>0.200000</td>\n",
       "      <td>0.200000</td>\n",
       "      <td>361.763742</td>\n",
       "      <td>1.000000</td>\n",
       "      <td>8.000000</td>\n",
       "      <td>13.000000</td>\n",
       "      <td>9.000000</td>\n",
       "      <td>20.000000</td>\n",
       "    </tr>\n",
       "  </tbody>\n",
       "</table>\n",
       "</div>"
      ],
      "text/plain": [
       "       Administrative  Administrative_Duration  Informational  \\\n",
       "count    12330.000000             12330.000000   12330.000000   \n",
       "mean         2.315166                80.818611       0.503569   \n",
       "std          3.321784               176.779107       1.270156   \n",
       "min          0.000000                 0.000000       0.000000   \n",
       "25%          0.000000                 0.000000       0.000000   \n",
       "50%          1.000000                 7.500000       0.000000   \n",
       "75%          4.000000                93.256250       0.000000   \n",
       "max         27.000000              3398.750000      24.000000   \n",
       "\n",
       "       Informational_Duration  ProductRelated  ProductRelated_Duration  \\\n",
       "count            12330.000000    12330.000000             12330.000000   \n",
       "mean                34.472398       31.731468              1194.746220   \n",
       "std                140.749294       44.475503              1913.669288   \n",
       "min                  0.000000        0.000000                 0.000000   \n",
       "25%                  0.000000        7.000000               184.137500   \n",
       "50%                  0.000000       18.000000               598.936905   \n",
       "75%                  0.000000       38.000000              1464.157214   \n",
       "max               2549.375000      705.000000             63973.522230   \n",
       "\n",
       "        BounceRates     ExitRates    PageValues    SpecialDay  \\\n",
       "count  12330.000000  12330.000000  12330.000000  12330.000000   \n",
       "mean       0.022191      0.043073      5.889258      0.061427   \n",
       "std        0.048488      0.048597     18.568437      0.198917   \n",
       "min        0.000000      0.000000      0.000000      0.000000   \n",
       "25%        0.000000      0.014286      0.000000      0.000000   \n",
       "50%        0.003112      0.025156      0.000000      0.000000   \n",
       "75%        0.016813      0.050000      0.000000      0.000000   \n",
       "max        0.200000      0.200000    361.763742      1.000000   \n",
       "\n",
       "       OperatingSystems       Browser        Region   TrafficType  \n",
       "count      12330.000000  12330.000000  12330.000000  12330.000000  \n",
       "mean           2.124006      2.357097      3.147364      4.069586  \n",
       "std            0.911325      1.717277      2.401591      4.025169  \n",
       "min            1.000000      1.000000      1.000000      1.000000  \n",
       "25%            2.000000      2.000000      1.000000      2.000000  \n",
       "50%            2.000000      2.000000      3.000000      2.000000  \n",
       "75%            3.000000      2.000000      4.000000      4.000000  \n",
       "max            8.000000     13.000000      9.000000     20.000000  "
      ]
     },
     "execution_count": 6,
     "metadata": {},
     "output_type": "execute_result"
    }
   ],
   "source": [
    "df.describe()"
   ]
  },
  {
   "cell_type": "markdown",
   "id": "ac40d8ac",
   "metadata": {
    "cell_id": "00013-ad79161c-5f7d-4f98-83a4-4b067b2d0581",
    "deepnote_cell_type": "markdown",
    "tags": []
   },
   "source": [
    "Temos que a variável 'Revenue' é a variável resposta dessa base. Vamos entendê-la melhor:"
   ]
  },
  {
   "cell_type": "code",
   "execution_count": 7,
   "id": "061aed7a",
   "metadata": {
    "cell_id": "00014-2c84541a-f50a-4637-af62-d37210337343",
    "deepnote_cell_type": "code",
    "deepnote_output_heights": [
     21.199996948242188
    ],
    "deepnote_to_be_reexecuted": false,
    "execution_millis": 5,
    "execution_start": 1639606456658,
    "source_hash": "7162eb82",
    "tags": []
   },
   "outputs": [
    {
     "data": {
      "text/plain": [
       "array([False,  True])"
      ]
     },
     "execution_count": 7,
     "metadata": {},
     "output_type": "execute_result"
    }
   ],
   "source": [
    "df['Revenue'].unique()"
   ]
  },
  {
   "cell_type": "markdown",
   "id": "4464cfcf",
   "metadata": {
    "cell_id": "00015-1e8cf329-dd7b-48f8-93fe-2fcf1ca25cef",
    "deepnote_cell_type": "markdown",
    "tags": []
   },
   "source": [
    "Com isso, vemos que 'Revenue' é uma variável binária. False indica que não houve vendas durante a sessão e True indica que houve."
   ]
  },
  {
   "cell_type": "markdown",
   "id": "7499c997",
   "metadata": {
    "cell_id": "00016-96bf1158-5eb7-47ec-9cd7-05f8ac2e0050",
    "deepnote_cell_type": "markdown",
    "tags": []
   },
   "source": [
    "## Limpeza e normalização dos dados"
   ]
  },
  {
   "cell_type": "markdown",
   "id": "97a57831",
   "metadata": {
    "cell_id": "00017-4e264fa7-5a03-40f6-9c3a-4f6c53c308f7",
    "deepnote_cell_type": "markdown",
    "tags": []
   },
   "source": [
    "Vamos verificar também se há dados missing:"
   ]
  },
  {
   "cell_type": "code",
   "execution_count": 8,
   "id": "d3d9040d",
   "metadata": {
    "cell_id": "00018-b2d8d7d6-934c-4f5d-b6ac-a65cecde77ca",
    "deepnote_cell_type": "code",
    "deepnote_to_be_reexecuted": false,
    "execution_millis": 4,
    "execution_start": 1639606456659,
    "source_hash": "be3b9ac4",
    "tags": []
   },
   "outputs": [
    {
     "name": "stdout",
     "output_type": "stream",
     "text": [
      "Administrative             0\n",
      "Administrative_Duration    0\n",
      "Informational              0\n",
      "Informational_Duration     0\n",
      "ProductRelated             0\n",
      "ProductRelated_Duration    0\n",
      "BounceRates                0\n",
      "ExitRates                  0\n",
      "PageValues                 0\n",
      "SpecialDay                 0\n",
      "Month                      0\n",
      "OperatingSystems           0\n",
      "Browser                    0\n",
      "Region                     0\n",
      "TrafficType                0\n",
      "VisitorType                0\n",
      "Weekend                    0\n",
      "Revenue                    0\n",
      "dtype: int64\n"
     ]
    }
   ],
   "source": [
    "print(df.isnull().sum())"
   ]
  },
  {
   "cell_type": "markdown",
   "id": "46b014e3",
   "metadata": {
    "cell_id": "00019-90e732b0-4104-48e0-8641-f0ec94439298",
    "deepnote_cell_type": "markdown",
    "tags": []
   },
   "source": [
    "Acima, vemos que não há nenhum dado missing nessa base de dados. Logo, não é necessário realizar nenhuma forma de tratamento de dados missing."
   ]
  },
  {
   "cell_type": "code",
   "execution_count": 9,
   "id": "b72801aa",
   "metadata": {
    "cell_id": "00020-a46e9e75-e560-4459-afc3-a155d25a3d09",
    "deepnote_cell_type": "code",
    "deepnote_output_heights": [
     21.199996948242188
    ],
    "deepnote_to_be_reexecuted": false,
    "execution_millis": 4,
    "execution_start": 1639606456699,
    "source_hash": "f8ec2095",
    "tags": []
   },
   "outputs": [
    {
     "data": {
      "text/plain": [
       "array(['Feb', 'Mar', 'May', 'Oct', 'June', 'Jul', 'Aug', 'Nov', 'Sep',\n",
       "       'Dec'], dtype=object)"
      ]
     },
     "execution_count": 9,
     "metadata": {},
     "output_type": "execute_result"
    }
   ],
   "source": [
    "df['Month'].unique()"
   ]
  },
  {
   "cell_type": "markdown",
   "id": "8fbedaff",
   "metadata": {
    "cell_id": "00021-99609f31-a8d7-421e-87f1-5370833dd789",
    "deepnote_cell_type": "text-cell-p",
    "is_collapsed": false,
    "tags": []
   },
   "source": [
    "Não é possível realizar a normalização com dados categóricos, com isso substituímos os valores da variável \"Month\" conforme segue abaixo "
   ]
  },
  {
   "cell_type": "code",
   "execution_count": 10,
   "id": "cd26a36f",
   "metadata": {
    "cell_id": "00022-e1a692fe-2c61-4584-ac98-607c6c43b6c1",
    "deepnote_cell_type": "code",
    "deepnote_output_heights": [
     21.199996948242188
    ],
    "deepnote_to_be_reexecuted": false,
    "execution_millis": 3,
    "execution_start": 1639606456701,
    "source_hash": "58943a4b",
    "tags": []
   },
   "outputs": [
    {
     "data": {
      "text/plain": [
       "array([ 2,  3,  5, 10,  6,  7,  8, 11,  9, 12], dtype=int64)"
      ]
     },
     "execution_count": 10,
     "metadata": {},
     "output_type": "execute_result"
    }
   ],
   "source": [
    "def changeMonth(df):\n",
    "    df['Month'] = df['Month'].replace('Jan', 1)\n",
    "    df['Month'] = df['Month'].replace('Feb', 2)\n",
    "    df['Month'] = df['Month'].replace('Mar', 3)\n",
    "    df['Month'] = df['Month'].replace('Apr', 4)\n",
    "    df['Month'] = df['Month'].replace('May', 5)\n",
    "    df['Month'] = df['Month'].replace('June', 6)\n",
    "    df['Month'] = df['Month'].replace('Jul', 7)\n",
    "    df['Month'] = df['Month'].replace('Aug', 8)\n",
    "    df['Month'] = df['Month'].replace('Sep', 9)\n",
    "    df['Month'] = df['Month'].replace('Oct', 10)\n",
    "    df['Month'] = df['Month'].replace('Nov', 11)\n",
    "    df['Month'] = df['Month'].replace('Dec', 12)\n",
    "    return df\n",
    "\n",
    "df_old = df.copy()\n",
    "df = changeMonth(df)\n",
    "df['Month'].unique()"
   ]
  },
  {
   "cell_type": "markdown",
   "id": "af06bc95",
   "metadata": {
    "cell_id": "00023-433e07d6-552c-4fc0-a92e-c8c939d7db23",
    "deepnote_cell_type": "text-cell-p",
    "is_collapsed": false,
    "tags": []
   },
   "source": [
    "De maneira semelhante ao tratamento anterior substituímos os valores da variável \"VisitorType\" conforme segue abaixo "
   ]
  },
  {
   "cell_type": "code",
   "execution_count": 11,
   "id": "dcf6fe26",
   "metadata": {
    "cell_id": "00024-613e56c3-26a0-4405-ac4e-26e3c180de8c",
    "deepnote_cell_type": "code",
    "deepnote_output_heights": [
     21.199996948242188
    ],
    "deepnote_to_be_reexecuted": false,
    "execution_millis": 9,
    "execution_start": 1639606456721,
    "source_hash": "d8a7d507",
    "tags": []
   },
   "outputs": [
    {
     "data": {
      "text/plain": [
       "array([1, 2, 3], dtype=int64)"
      ]
     },
     "execution_count": 11,
     "metadata": {},
     "output_type": "execute_result"
    }
   ],
   "source": [
    "def changeVisitorType(df):\n",
    "    df['VisitorType'] = df['VisitorType'].replace('Returning_Visitor', 1)\n",
    "    df['VisitorType'] = df['VisitorType'].replace('New_Visitor', 2)\n",
    "    df['VisitorType'] = df['VisitorType'].replace('Other', 3)\n",
    "    return df\n",
    "\n",
    "df = changeVisitorType(df)\n",
    "df['VisitorType'].unique()"
   ]
  },
  {
   "cell_type": "markdown",
   "id": "c2f78ada",
   "metadata": {
    "cell_id": "00025-02a426f9-4b36-43a4-972d-9cceb770b00b",
    "deepnote_cell_type": "markdown",
    "tags": []
   },
   "source": [
    "Para facilitar o processamento, vamos converter os dados para o formato numpy:"
   ]
  },
  {
   "cell_type": "code",
   "execution_count": 12,
   "id": "52f6d6cf",
   "metadata": {
    "cell_id": "00026-e447c451-d773-4d11-9eac-aeac6823d783",
    "deepnote_cell_type": "code",
    "deepnote_to_be_reexecuted": false,
    "execution_millis": 0,
    "execution_start": 1639606456775,
    "source_hash": "e393b03d",
    "tags": []
   },
   "outputs": [],
   "source": [
    "#df[\"Revenue\"] = df[\"Revenue\"].astype(int)\n",
    "df[\"Revenue\"] = df[\"Revenue\"].astype(float)\n",
    "data = df.to_numpy()\n",
    "nrow, ncol = data.shape\n",
    "X = data[:,0:ncol-1]\n",
    "y = df['Revenue'].to_numpy()"
   ]
  },
  {
   "cell_type": "code",
   "execution_count": 13,
   "id": "ad95be27",
   "metadata": {
    "cell_id": "00027-be955251-e0f8-459d-9c9e-771d0cb99d21",
    "deepnote_cell_type": "code",
    "deepnote_output_heights": [
     270.79998779296875
    ],
    "deepnote_to_be_reexecuted": false,
    "execution_millis": 3,
    "execution_start": 1639606478415,
    "source_hash": "a1e691b8",
    "tags": []
   },
   "outputs": [
    {
     "data": {
      "text/plain": [
       "(array([[0, 0.0, 0, ..., 1, 1, False],\n",
       "        [0, 0.0, 0, ..., 2, 1, False],\n",
       "        [0, 0.0, 0, ..., 3, 1, False],\n",
       "        ...,\n",
       "        [0, 0.0, 0, ..., 13, 1, True],\n",
       "        [4, 75.0, 0, ..., 11, 1, False],\n",
       "        [0, 0.0, 0, ..., 2, 2, True]], dtype=object),\n",
       " array([0., 0., 0., ..., 0., 0., 0.]))"
      ]
     },
     "execution_count": 13,
     "metadata": {},
     "output_type": "execute_result"
    }
   ],
   "source": [
    "X, y"
   ]
  },
  {
   "cell_type": "markdown",
   "id": "9a63f834",
   "metadata": {
    "cell_id": "00028-6a306ff0-525c-4a02-a975-eb37abf363e8",
    "deepnote_cell_type": "markdown",
    "tags": []
   },
   "source": [
    "Os dados podem ser normalizados, pois assim é possível evitar o efeito da escala dos atributos nos métodos de aprendizado:"
   ]
  },
  {
   "cell_type": "code",
   "execution_count": 14,
   "id": "763bf0c9",
   "metadata": {
    "cell_id": "00029-2a6113c2-c056-4315-a9cd-637cb6b7e3a7",
    "deepnote_cell_type": "code",
    "deepnote_to_be_reexecuted": false,
    "execution_millis": 2,
    "execution_start": 1639606478416,
    "source_hash": "f262da3e",
    "tags": []
   },
   "outputs": [
    {
     "name": "stdout",
     "output_type": "stream",
     "text": [
      "Dados transformados:\n",
      "Media: [-2.99661170e-17  6.28135914e-17 -4.61017185e-18 -2.53559452e-17\n",
      "  4.61017185e-17 -8.29830932e-17 -6.45424058e-17  3.68813748e-17\n",
      "  1.06033952e-16 -5.53220622e-17 -2.21288249e-16  4.61017185e-18\n",
      "  1.49830585e-17  7.72203784e-17 -2.99661170e-17 -2.25898420e-16\n",
      "  2.30508592e-18]\n",
      "Desvio Padrao: [1. 1. 1. 1. 1. 1. 1. 1. 1. 1. 1. 1. 1. 1. 1. 1. 1.]\n"
     ]
    }
   ],
   "source": [
    "from sklearn.preprocessing import StandardScaler\n",
    "scaler = StandardScaler().fit(X)\n",
    "X = scaler.transform(X)\n",
    "\n",
    "print('Dados transformados:')\n",
    "print(f'Media: {np.mean(X, axis=0)}')\n",
    "print(f'Desvio Padrao: {np.std(X, axis=0)}')"
   ]
  },
  {
   "cell_type": "markdown",
   "id": "9b667a92",
   "metadata": {
    "cell_id": "00030-c607d867-bb49-49e1-ba21-cdcb5d731058",
    "deepnote_cell_type": "markdown",
    "tags": []
   },
   "source": [
    "Ao normalizar, temos que a média é 0 e o desvio padrão é 1. Vemos acima que os valores estão tendendo ao esperado, então pode-se concluir que a base realmente foi normalizada."
   ]
  },
  {
   "cell_type": "markdown",
   "id": "bc1ffc7d",
   "metadata": {
    "cell_id": "00031-abce7efe-0cb0-4d74-bdef-45fd9da6c87f",
    "deepnote_cell_type": "markdown",
    "tags": []
   },
   "source": [
    "## Análise descritiva\n"
   ]
  },
  {
   "cell_type": "markdown",
   "id": "1c6fa648",
   "metadata": {
    "cell_id": "00033-905701fc-5c5f-4e8c-9fae-8012a5727f6b",
    "deepnote_cell_type": "text-cell-p",
    "is_collapsed": false,
    "tags": []
   },
   "source": [
    "Vamos verificar quantas receitas foram feitas em cada mês:"
   ]
  },
  {
   "cell_type": "code",
   "execution_count": 15,
   "id": "610ba1d6",
   "metadata": {
    "cell_id": "00032-69e62df3-247e-4327-9211-c81f1aa10656",
    "deepnote_cell_type": "code",
    "deepnote_output_heights": [
     21.199996948242188,
     323
    ],
    "deepnote_to_be_reexecuted": false,
    "execution_millis": 627,
    "execution_start": 1639606478417,
    "source_hash": "bee22679",
    "tags": []
   },
   "outputs": [
    {
     "data": {
      "text/plain": [
       "<AxesSubplot:xlabel='Month'>"
      ]
     },
     "execution_count": 15,
     "metadata": {},
     "output_type": "execute_result"
    },
    {
     "data": {
      "image/png": "[encoded data removed]",
      "text/plain": [
       "<Figure size 720x360 with 1 Axes>"
      ]
     },
     "metadata": {
      "needs_background": "light"
     },
     "output_type": "display_data"
    }
   ],
   "source": [
    "df_old.groupby('Month')['Revenue'].value_counts().unstack('Revenue').plot(kind='bar', stacked=True, figsize=(10, 5))"
   ]
  },
  {
   "cell_type": "markdown",
   "id": "10bce0f1",
   "metadata": {
    "cell_id": "00034-ce26d70f-4940-41cd-9701-407413a4a605",
    "deepnote_cell_type": "text-cell-p",
    "is_collapsed": false,
    "tags": []
   },
   "source": [
    "Podemos ver que novembro teve um numero maior de receita."
   ]
  },
  {
   "cell_type": "markdown",
   "id": "08ace712",
   "metadata": {
    "cell_id": "00035-8fe9c490-fe47-41aa-94e5-e7948cf0cd68",
    "deepnote_cell_type": "markdown",
    "tags": []
   },
   "source": [
    "Agora vamos verificar o tipo de visitante:"
   ]
  },
  {
   "cell_type": "code",
   "execution_count": 16,
   "id": "b02990a8",
   "metadata": {
    "cell_id": "00035-790140ad-f204-43e8-b907-8a8b5dbf1a4b",
    "deepnote_cell_type": "code",
    "deepnote_output_heights": [
     21.199996948242188,
     396
    ],
    "deepnote_to_be_reexecuted": true,
    "execution_millis": 190,
    "execution_start": 1639606457503,
    "source_hash": "7cea2b15",
    "tags": []
   },
   "outputs": [
    {
     "data": {
      "text/plain": [
       "<AxesSubplot:ylabel='VisitorType'>"
      ]
     },
     "execution_count": 16,
     "metadata": {},
     "output_type": "execute_result"
    },
    {
     "data": {
      "image/png": "[encoded data removed]",
      "text/plain": [
       "<Figure size 504x504 with 1 Axes>"
      ]
     },
     "metadata": {},
     "output_type": "display_data"
    }
   ],
   "source": [
    "df_old['VisitorType'].value_counts().plot.pie(y='VisitorType', figsize=(7, 7))"
   ]
  },
  {
   "cell_type": "markdown",
   "id": "ec8168b2",
   "metadata": {
    "cell_id": "00036-3b72bc07-2f0b-446c-bccf-2a438284e1f6",
    "deepnote_cell_type": "text-cell-p",
    "is_collapsed": false,
    "tags": []
   },
   "source": [
    "É possível notar que a maior parte dos visitantes, são visitantes antigos. É um ponto interessante para pensar em possíveis estratégias de vendas. Vamos verificar quais paginas tiveram maiores números de receitas:"
   ]
  },
  {
   "cell_type": "code",
   "execution_count": 17,
   "id": "86ba9b7e",
   "metadata": {
    "cell_id": "00038-5c7f285a-4e41-400e-8801-7679dbe4daa0",
    "deepnote_cell_type": "code",
    "deepnote_output_heights": [
     21.199996948242188,
     371
    ],
    "deepnote_to_be_reexecuted": false,
    "execution_millis": 319,
    "execution_start": 1639606477120,
    "source_hash": "9156895a",
    "tags": []
   },
   "outputs": [
    {
     "data": {
      "text/plain": [
       "<AxesSubplot:>"
      ]
     },
     "execution_count": 17,
     "metadata": {},
     "output_type": "execute_result"
    },
    {
     "data": {
      "image/png": "[encoded data removed]",
      "text/plain": [
       "<Figure size 720x360 with 1 Axes>"
      ]
     },
     "metadata": {
      "needs_background": "light"
     },
     "output_type": "display_data"
    }
   ],
   "source": [
    "df_old=df[['Administrative','Informational','ProductRelated','Revenue']]\n",
    "pd.pivot_table(df_old, values=['Administrative','Informational','ProductRelated'],columns=['Revenue'], aggfunc='mean').plot(kind='bar', figsize=(10, 5))"
   ]
  },
  {
   "cell_type": "markdown",
   "id": "391ab477",
   "metadata": {
    "cell_id": "00039-411c6b91-2b54-4aa3-8671-327b39c53293",
    "deepnote_cell_type": "text-cell-p",
    "is_collapsed": false,
    "tags": []
   },
   "source": [
    "Foi possível observar que a página de Produtos Relacionados obteve o maior número de receita."
   ]
  },
  {
   "cell_type": "markdown",
   "id": "fe1461c0",
   "metadata": {
    "cell_id": "00039-23b91d02-ac88-4435-8798-29aeccae6dd1",
    "deepnote_cell_type": "markdown",
    "tags": []
   },
   "source": [
    "Abaixo, vamos utilizar o PCA para ver a importância de cada feature para o problema:"
   ]
  },
  {
   "cell_type": "code",
   "execution_count": 18,
   "id": "00d37e3b",
   "metadata": {
    "cell_id": "00032-b3747c18-9759-4d3b-a982-cd16322f4494",
    "deepnote_cell_type": "code",
    "deepnote_output_heights": [
     337
    ],
    "deepnote_to_be_reexecuted": false,
    "execution_millis": 877,
    "execution_start": 1639606488110,
    "source_hash": "9d55554e",
    "tags": []
   },
   "outputs": [
    {
     "data": {
      "image/png": "[encoded data removed]",
      "text/plain": [
       "<Figure size 576x360 with 1 Axes>"
      ]
     },
     "metadata": {
      "needs_background": "light"
     },
     "output_type": "display_data"
    }
   ],
   "source": [
    "from sklearn.decomposition import PCA\n",
    "pca = PCA(n_components=2)\n",
    "pca_result = pca.fit_transform(X)\n",
    "\n",
    "classes = np.unique(y)\n",
    "\n",
    "colors = ['b', 'g', 'r', 'c', 'm', 'y', 'k', 'w']\n",
    "aux = 0\n",
    "plt.figure(figsize=(8,5))\n",
    "for c in classes:\n",
    "    if c == 1:\n",
    "        lb = 'There is revenue'\n",
    "    else:\n",
    "        lb = 'There is no revenue'\n",
    "    nodes = np.where(y == c)\n",
    "    plt.scatter(pca_result[nodes,0], pca_result[nodes,1], s=50, color = colors[aux], label = lb)\n",
    "    aux = aux + 1\n",
    "plt.legend()\n",
    "plt.xlabel(\"First component\", fontsize=20)\n",
    "plt.ylabel(\"Second component\", fontsize=20)\n",
    "plt.xticks(color='k', size=20)\n",
    "plt.yticks(color='k', size=20)\n",
    "plt.show(True)"
   ]
  },
  {
   "cell_type": "markdown",
   "id": "d92af77b",
   "metadata": {
    "cell_id": "00033-7913e046-6240-4474-b01a-e7efa3af839c",
    "deepnote_cell_type": "markdown",
    "tags": []
   },
   "source": [
    "Vemos que em duas dimensões, a separação não é clara, e que as duas componentes principais estão positivamente correlacionadas."
   ]
  },
  {
   "cell_type": "markdown",
   "id": "2c209ff1",
   "metadata": {
    "cell_id": "00034-91aec901-18bd-4651-91bc-db58d39594c6",
    "deepnote_cell_type": "markdown",
    "tags": []
   },
   "source": [
    "Além disso, podemos identificar os atributos que mais explicam a variância nos dados:"
   ]
  },
  {
   "cell_type": "code",
   "execution_count": 19,
   "id": "4020e17b",
   "metadata": {
    "cell_id": "00035-8810f1e7-3024-4b74-a128-191460e0be55",
    "deepnote_cell_type": "code",
    "deepnote_output_heights": [
     316.01666259765625
    ],
    "deepnote_to_be_reexecuted": false,
    "execution_millis": 622,
    "execution_start": 1639606500455,
    "source_hash": "cfe11e78",
    "tags": []
   },
   "outputs": [
    {
     "data": {
      "image/png": "[encoded data removed]",
      "text/plain": [
       "<Figure size 432x288 with 1 Axes>"
      ]
     },
     "metadata": {
      "needs_background": "light"
     },
     "output_type": "display_data"
    }
   ],
   "source": [
    "pca = PCA()\n",
    "pca_result = pca.fit_transform(X)\n",
    "var_exp = pca.explained_variance_ratio_\n",
    "\n",
    "importances = var_exp\n",
    "attributes = df.columns[0:len(df.columns)-1]\n",
    "indices = np.argsort(importances)\n",
    "attributes_rank = []\n",
    "for i in indices:\n",
    "    attributes_rank.append(attributes[i])\n",
    "plt.title('Feature Importances')\n",
    "plt.tight_layout()\n",
    "plt.barh(range(len(indices)), importances[indices], color='b', align='center')\n",
    "plt.yticks(range(len(indices)), attributes_rank, fontsize=25)\n",
    "plt.xlabel('Relative Importance',fontsize=25)\n",
    "plt.xticks(color='k', size=20)\n",
    "plt.yticks(color='k', size=20)\n",
    "plt.xlim([0.0, 0.25])\n",
    "plt.show()"
   ]
  },
  {
   "cell_type": "code",
   "execution_count": 20,
   "id": "8f75ca6f",
   "metadata": {
    "cell_id": "00036-3a528ed0-cbec-497c-a271-f1774915f713",
    "deepnote_cell_type": "code",
    "deepnote_output_heights": [
     21.199996948242188
    ],
    "deepnote_to_be_reexecuted": false,
    "execution_millis": 4,
    "execution_start": 1639606506712,
    "source_hash": "9ccc1807",
    "tags": []
   },
   "outputs": [
    {
     "data": {
      "text/plain": [
       "1.0"
      ]
     },
     "execution_count": 20,
     "metadata": {},
     "output_type": "execute_result"
    }
   ],
   "source": [
    "importances.sum()"
   ]
  },
  {
   "cell_type": "markdown",
   "id": "4543972a",
   "metadata": {
    "cell_id": "00037-6ba46eeb-0394-41e9-b924-91bf9092b615",
    "deepnote_cell_type": "markdown",
    "tags": []
   },
   "source": [
    "Ao somar as importâncias relativas de cada variável, temos que o resultado é 1, ou seja, todas as variáveis, juntas, explicam 100% da variação total. Com isso, podemos escolher uma quantidade menor, e que ainda obtenha um bom resultado. No entanto, como nossa base não possui muitas variáveis, utilizaremos a base completa para treinar os modelos."
   ]
  },
  {
   "cell_type": "markdown",
   "id": "c2f3c736",
   "metadata": {
    "cell_id": "00038-6f4a7f02-60f6-4050-b538-bf6e8f728f1e",
    "deepnote_cell_type": "markdown",
    "tags": []
   },
   "source": [
    "Podemos verificar como a variância muda de acordo com o número de componentes: "
   ]
  },
  {
   "cell_type": "code",
   "execution_count": 21,
   "id": "208f0815",
   "metadata": {
    "cell_id": "00039-5c4b007f-ddfc-4e11-99f3-fac94b0e459e",
    "deepnote_cell_type": "code",
    "deepnote_output_heights": [
     357
    ],
    "deepnote_to_be_reexecuted": false,
    "execution_millis": 376,
    "execution_start": 1639606506735,
    "source_hash": "f9e16467",
    "tags": []
   },
   "outputs": [
    {
     "data": {
      "image/png": "[encoded data removed]",
      "text/plain": [
       "<Figure size 576x360 with 1 Axes>"
      ]
     },
     "metadata": {
      "needs_background": "light"
     },
     "output_type": "display_data"
    }
   ],
   "source": [
    "pca = PCA().fit(X)\n",
    "plt.figure(figsize=(8,5))\n",
    "ncomp = np.arange(1, np.shape(X)[1]+1)\n",
    "plt.plot(ncomp, np.cumsum(pca.explained_variance_ratio_), 'ro-')\n",
    "plt.xlabel('Number of Components', fontsize=20)\n",
    "plt.ylabel('Cumulative Explained Variance', fontsize=20);\n",
    "plt.xticks(color='k', size=20)\n",
    "plt.yticks(color='k', size=20)\n",
    "plt.grid(True)\n",
    "plt.show(True)"
   ]
  },
  {
   "cell_type": "markdown",
   "id": "cc18cf71",
   "metadata": {
    "cell_id": "00040-69622691-b27c-4c8c-bc1f-0f70bdf6d642",
    "deepnote_cell_type": "markdown",
    "tags": []
   },
   "source": [
    "Escolhendo as 8 variáveis com maior importância relativa, temos:"
   ]
  },
  {
   "cell_type": "code",
   "execution_count": 22,
   "id": "96378697",
   "metadata": {
    "cell_id": "00041-24734927-bca5-423a-a46f-548e8dd019f4",
    "deepnote_cell_type": "code",
    "deepnote_output_heights": [
     98
    ],
    "deepnote_to_be_reexecuted": false,
    "execution_millis": 2262052,
    "execution_start": 1639606515519,
    "source_hash": "8dd35e38",
    "tags": []
   },
   "outputs": [
    {
     "data": {
      "text/plain": [
       "(0.7070600470522304,\n",
       " Index(['Administrative', 'Administrative_Duration', 'Informational',\n",
       "        'Informational_Duration', 'ProductRelated', 'ProductRelated_Duration',\n",
       "        'BounceRates', 'ExitRates'],\n",
       "       dtype='object'))"
      ]
     },
     "execution_count": 22,
     "metadata": {},
     "output_type": "execute_result"
    }
   ],
   "source": [
    "importances[0:8].sum(), attributes[0:8]"
   ]
  },
  {
   "cell_type": "markdown",
   "id": "4170eb83",
   "metadata": {
    "cell_id": "00042-cd53e9b4-53eb-4f25-9e53-4a16d745b89a",
    "deepnote_cell_type": "markdown",
    "tags": []
   },
   "source": [
    "Com isso, vemos que as variáveis 'Administrative', 'Administrative_Duration', 'Informational', 'Informational_Duration', 'ProductRelated', 'ProductRelated_Duration' , 'BounceRates' e 'ExitRates' são capazes de explicar, juntas, cerca de 70% da variação total, o que é um valor considerável. Além disso, o número de variáveis passa a ser bem menor do que o da base original, o que implica em um menor custo de processamento para as técnicas de aprendizado que serão utilizadas abaixo."
   ]
  },
  {
   "cell_type": "markdown",
   "id": "8c81dc29",
   "metadata": {
    "cell_id": "00043-a500169d-5029-4066-b38c-da6a98791984",
    "deepnote_cell_type": "text-cell-p",
    "is_collapsed": false,
    "tags": []
   },
   "source": [
    "Podemos&nbsp;também&nbsp;analisar&nbsp;o&nbsp;nível&nbsp;de&nbsp;correlação&nbsp;nos&nbsp;dados:"
   ]
  },
  {
   "cell_type": "code",
   "execution_count": 23,
   "id": "754efd32",
   "metadata": {
    "cell_id": "00044-ba981645-b7f7-4a23-8927-afbcd114167e",
    "deepnote_cell_type": "code",
    "deepnote_output_heights": [
     611
    ],
    "deepnote_to_be_reexecuted": false,
    "execution_millis": 757,
    "execution_start": 1639606515536,
    "source_hash": "48e5c3ec",
    "tags": []
   },
   "outputs": [
    {
     "data": {
      "image/png": "[encoded data removed]",
      "text/plain": [
       "<Figure size 720x576 with 2 Axes>"
      ]
     },
     "metadata": {
      "needs_background": "light"
     },
     "output_type": "display_data"
    }
   ],
   "source": [
    "corr = df.loc[:, df.columns != 'Revenue'].corr()\n",
    "#Plot Correlation Matrix using Matplotlib\n",
    "plt.figure(figsize=(10, 8))\n",
    "plt.imshow(corr, cmap='Blues', interpolation='none', aspect='auto')\n",
    "plt.colorbar()\n",
    "plt.xticks(range(len(corr)), corr.columns, rotation='vertical')\n",
    "plt.yticks(range(len(corr)), corr.columns);\n",
    "plt.suptitle('Correlation between variables', fontsize=15, fontweight='bold')\n",
    "plt.grid(False)\n",
    "plt.show()"
   ]
  },
  {
   "cell_type": "markdown",
   "id": "72d6612b",
   "metadata": {
    "cell_id": "00045-84784077-dfd3-4a90-8c72-0665a22ca4d6",
    "deepnote_cell_type": "markdown",
    "tags": []
   },
   "source": [
    "Vemos que <b>'Administrative'-'Administrative_Duration'</b>, <b>'Informational'-'Informational_Duration'</b> e <b>'ProductRelated'-'ProductRelated_Duration'</b> estão fortemente correlacionados, o que faz sentido, pois as variáveis têm a mesma origem. Temos também uma alta correlação com <b>'BounceRate'-'ExitRates'</b>, o que pode ser atribuído ao fato de que os usuários que fazem parte do BounceRate saem de uma página, o que também leva ao aumento do ExitRates."
   ]
  },
  {
   "cell_type": "markdown",
   "id": "6cec8077",
   "metadata": {
    "cell_id": "00046-5b86fe32-68cf-4657-8a1e-1eafe07964c5",
    "deepnote_cell_type": "markdown",
    "tags": []
   },
   "source": [
    "Vamos ver como estão distribuídas as classes de 'Revenue':"
   ]
  },
  {
   "cell_type": "code",
   "execution_count": 24,
   "id": "3b7f5ad3",
   "metadata": {
    "cell_id": "00047-c56f9eb9-351f-4c29-9d36-6c8434ba66ff",
    "deepnote_cell_type": "code",
    "deepnote_output_heights": [
     21.199996948242188,
     256
    ],
    "deepnote_to_be_reexecuted": false,
    "execution_millis": 348,
    "execution_start": 1639604296476,
    "source_hash": "942afed6",
    "tags": []
   },
   "outputs": [
    {
     "data": {
      "text/plain": [
       "<AxesSubplot:>"
      ]
     },
     "execution_count": 24,
     "metadata": {},
     "output_type": "execute_result"
    },
    {
     "data": {
      "image/png": "[encoded data removed]",
      "text/plain": [
       "<Figure size 432x288 with 1 Axes>"
      ]
     },
     "metadata": {
      "needs_background": "light"
     },
     "output_type": "display_data"
    }
   ],
   "source": [
    "df['Revenue'].value_counts().plot(kind='bar', color='purple')"
   ]
  },
  {
   "cell_type": "markdown",
   "id": "c5a5fc8e",
   "metadata": {
    "cell_id": "00048-7e54e8e3-9a8b-451f-9124-b30117ae4bbf",
    "deepnote_cell_type": "markdown",
    "tags": []
   },
   "source": [
    "Com isso, vemos que há aproximadamente 5 vezes mais False do que True, o que indica que a maioria das sessões não resulta em uma venda. Além disso, implica que a base de dados está desbalanceada, pois há muito mais False do que True."
   ]
  },
  {
   "cell_type": "markdown",
   "id": "3b1790ca",
   "metadata": {
    "cell_id": "00049-92e4b44a-44f2-453f-ac8d-317906edd6f6",
    "deepnote_cell_type": "markdown",
    "tags": []
   },
   "source": [
    "## Classificação"
   ]
  },
  {
   "cell_type": "markdown",
   "id": "5f7036e2",
   "metadata": {
    "cell_id": "00050-edba525a-fca8-4e6a-9e0a-e08d93126c55",
    "deepnote_cell_type": "markdown",
    "tags": []
   },
   "source": [
    "Agora, vamos utilizar a técnica KNN, com validação cruzada:"
   ]
  },
  {
   "cell_type": "code",
   "execution_count": 25,
   "id": "6cb5f532",
   "metadata": {
    "cell_id": "00051-be4608e2-61a4-4f15-9f22-79b34942ea3d",
    "deepnote_cell_type": "code",
    "deepnote_output_heights": [
     null,
     324
    ],
    "deepnote_to_be_reexecuted": false,
    "execution_millis": 133699,
    "execution_start": 1639606522643,
    "source_hash": "c665c433",
    "tags": []
   },
   "outputs": [
    {
     "name": "stdout",
     "output_type": "stream",
     "text": [
      "Melhor k: 1  AUC: 0.6862378035354756\n"
     ]
    },
    {
     "data": {
      "image/png": "[encoded data removed]",
      "text/plain": [
       "<Figure size 720x360 with 1 Axes>"
      ]
     },
     "metadata": {
      "needs_background": "light"
     },
     "output_type": "display_data"
    }
   ],
   "source": [
    "from sklearn.neighbors import KNeighborsClassifier\n",
    "from sklearn.model_selection import StratifiedKFold\n",
    "from sklearn.model_selection import KFold\n",
    "from sklearn.metrics import accuracy_score\n",
    "from sklearn.metrics import roc_auc_score\n",
    "\n",
    "cv = StratifiedKFold(n_splits=10, shuffle=True, random_state=42)\n",
    "#cv = KFold(n_splits=10)\n",
    "# enumerate the splits and summarize the distributions\n",
    "mauc = []\n",
    "macc = []\n",
    "vk = []\n",
    "for k in range(1, 30):\n",
    "    vauc = []\n",
    "    vacc = []\n",
    "    for train_index, test_index in cv.split(X, y):\n",
    "        # select rows\n",
    "        x_train, x_test = X[train_index], X[test_index]\n",
    "        y_train, y_test = y[train_index], y[test_index]\n",
    "\n",
    "        model = KNeighborsClassifier(n_neighbors=k, metric = 'euclidean')\n",
    "        model.fit(x_train,y_train)\n",
    "        y_pred = model.predict(x_test) \n",
    "        score = accuracy_score(y_pred, y_test)\n",
    "\n",
    "        vauc.append(roc_auc_score(y_test, y_pred))\n",
    "        vacc.append(accuracy_score(y_pred, y_test))\n",
    "    macc.append(np.mean(vacc))\n",
    "    mauc.append(np.mean(vauc))\n",
    "    vk.append(k)\n",
    "    #print('k:', k)\n",
    "    #print('Average accuracy:', np.mean(vacc))\n",
    "    #print('Average AUC:', np.mean(vauc))\n",
    "best_k = np.argmax(mauc)+1\n",
    "print('Melhor k:', best_k, ' AUC:',mauc[best_k-1])\n",
    "plt.figure(figsize=(10,5))\n",
    "plt.plot(vk, mauc, '-ro', label= 'AUC')\n",
    "plt.plot(vk, macc, '-bo', label = 'Accuracy')\n",
    "plt.xlabel('k', fontsize = 15)\n",
    "plt.ylabel('Score', fontsize = 15)\n",
    "plt.legend()\n",
    "plt.show()"
   ]
  },
  {
   "cell_type": "markdown",
   "id": "e2e21376",
   "metadata": {
    "cell_id": "00052-19e13fcd-8776-4b25-bc18-b6b46d8f76b6",
    "deepnote_cell_type": "markdown",
    "tags": []
   },
   "source": [
    "Vemos que, para a maioria dos k, a acurácia tem um valor alto. Isso pode ser atribuído ao fato de a base estar desbalanceada, o que induz ao modelo apresentar uma alta acurácia, mas que não representa a realidade. Temos também que, depois de k = 5, o valor da acurácia passou a se manter estável."
   ]
  },
  {
   "cell_type": "markdown",
   "id": "43c49583",
   "metadata": {
    "cell_id": "00053-92308bbc-b649-4b35-8cb6-cc639c42ff16",
    "deepnote_cell_type": "markdown",
    "tags": []
   },
   "source": [
    "O melhor valor de AUC foi obtido com k = 1. A AUC pode ser considerada uma métrica mais confiável nesse caso, pois ela retrata melhor as bases desbalanceadas."
   ]
  },
  {
   "cell_type": "markdown",
   "id": "3f5fff2d",
   "metadata": {
    "cell_id": "00054-98372b61-aaa7-424d-a9d3-3c9a574935ed",
    "deepnote_cell_type": "text-cell-p",
    "is_collapsed": false,
    "tags": []
   },
   "source": [
    "Usando o classificador SVM, precisamos escolher o melhor valor do parâmetro c."
   ]
  },
  {
   "cell_type": "code",
   "execution_count": null,
   "id": "c93a46ab",
   "metadata": {
    "cell_id": "00055-a6de439c-78e1-462d-a268-38a1b3db630c",
    "deepnote_cell_type": "code",
    "deepnote_output_heights": [
     null,
     325
    ],
    "deepnote_to_be_reexecuted": false,
    "execution_millis": 1842849,
    "execution_start": 1638660979759,
    "source_hash": "61303b6d",
    "tags": []
   },
   "outputs": [
    {
     "name": "stdout",
     "output_type": "stream",
     "text": [
      "Melhor c: 24  AUC: 0.7412491597942297\n"
     ]
    },
    {
     "data": {
      "image/png": "[encoded data removed]",
      "text/plain": [
       "<Figure size 720x360 with 1 Axes>"
      ]
     },
     "metadata": {
      "image/png": {
       "height": 323,
       "width": 627
      },
      "needs_background": "light"
     },
     "output_type": "display_data"
    }
   ],
   "source": [
    "from sklearn.svm import SVC\n",
    "from sklearn.model_selection import StratifiedKFold\n",
    "from sklearn.model_selection import KFold\n",
    "from sklearn.metrics import accuracy_score\n",
    "from sklearn.metrics import roc_auc_score\n",
    "\n",
    "cv = StratifiedKFold(n_splits=10, shuffle=True, random_state=42)\n",
    "#cv = KFold(n_splits=10)\n",
    "# enumerate the splits and summarize the distributions\n",
    "mauc = []\n",
    "macc = []\n",
    "vc = []\n",
    "for c in range(1, 30):\n",
    "    vauc = []\n",
    "    vacc = []\n",
    "    for train_index, test_index in cv.split(X, y):\n",
    "        # select rows\n",
    "        x_train, x_test = X[train_index], X[test_index]\n",
    "        y_train, y_test = y[train_index], y[test_index]\n",
    "\n",
    "        model = SVC(C = c, gamma = 'auto')\n",
    "        model.fit(x_train,y_train)\n",
    "        y_pred = model.predict(x_test) \n",
    "        score = accuracy_score(y_pred, y_test)\n",
    "\n",
    "        vauc.append(roc_auc_score(y_test, y_pred))\n",
    "        vacc.append(accuracy_score(y_pred, y_test))\n",
    "    macc.append(np.mean(vacc))\n",
    "    mauc.append(np.mean(vauc))\n",
    "    vc.append(c)\n",
    "    #print('k:', k)\n",
    "    #print('Average accuracy:', np.mean(vacc))\n",
    "    #print('Average AUC:', np.mean(vauc))\n",
    "best_c = np.argmax(mauc)+1\n",
    "print('Melhor c:', best_c, ' AUC:',mauc[best_c-1])\n",
    "plt.figure(figsize=(10,5))\n",
    "plt.plot(vc, mauc, '-ro', label= 'AUC')\n",
    "plt.plot(vc, macc, '-bo', label = 'Accuracy')\n",
    "plt.xlabel('c', fontsize = 15)\n",
    "plt.ylabel('Score', fontsize = 15)\n",
    "plt.legend()\n",
    "plt.show()"
   ]
  },
  {
   "cell_type": "markdown",
   "id": "6caf469e",
   "metadata": {
    "cell_id": "00056-c49ef0f7-efb0-4341-9fac-38fcb17e2adb",
    "deepnote_cell_type": "text-cell-p",
    "is_collapsed": false,
    "tags": []
   },
   "source": [
    "Vamos usar o random forest."
   ]
  },
  {
   "cell_type": "code",
   "execution_count": null,
   "id": "89dc6643",
   "metadata": {
    "cell_id": "00057-c727450d-b56c-4c0d-82f7-3f0e4c9b7f61",
    "deepnote_cell_type": "code",
    "deepnote_output_heights": [
     null,
     324
    ],
    "tags": []
   },
   "outputs": [
    {
     "name": "stdout",
     "output_type": "stream",
     "text": [
      "Melhor n: 19  AUC: 0.7736521831778591\n"
     ]
    },
    {
     "data": {
      "image/png": "[encoded data removed]",
      "text/plain": [
       "<Figure size 720x360 with 1 Axes>"
      ]
     },
     "metadata": {
      "image/png": {
       "height": 322,
       "width": 627
      },
      "needs_background": "light"
     },
     "output_type": "display_data"
    }
   ],
   "source": [
    "from sklearn.ensemble import RandomForestClassifier\n",
    "from sklearn.model_selection import StratifiedKFold\n",
    "from sklearn.model_selection import KFold\n",
    "from sklearn.metrics import accuracy_score\n",
    "from sklearn.metrics import roc_auc_score\n",
    "\n",
    "cv = StratifiedKFold(n_splits=10, shuffle=True, random_state=42)\n",
    "#cv = KFold(n_splits=10)\n",
    "# enumerate the splits and summarize the distributions\n",
    "mauc = []\n",
    "macc = []\n",
    "vn = []\n",
    "for n in range(1, 50, 2):\n",
    "    vauc = []\n",
    "    vacc = []\n",
    "    for train_index, test_index in cv.split(X, y):\n",
    "        # select rows\n",
    "        x_train, x_test = X[train_index], X[test_index]\n",
    "        y_train, y_test = y[train_index], y[test_index]\n",
    "\n",
    "        model = RandomForestClassifier(n_estimators=n)\n",
    "        model.fit(x_train,y_train)\n",
    "        y_pred = model.predict(x_test) \n",
    "        score = accuracy_score(y_pred, y_test)\n",
    "\n",
    "        vauc.append(roc_auc_score(y_test, y_pred))\n",
    "        vacc.append(accuracy_score(y_pred, y_test))\n",
    "    macc.append(np.mean(vacc))\n",
    "    mauc.append(np.mean(vauc))\n",
    "    vn.append(n)\n",
    "best_n = np.argmax(mauc)+1\n",
    "print('Melhor n:', best_n, ' AUC:',mauc[best_n-1])\n",
    "plt.figure(figsize=(10,5))\n",
    "plt.plot(vn, mauc, '-ro', label= 'AUC')\n",
    "plt.plot(vn, macc, '-bo', label = 'Accuracy')\n",
    "plt.xlabel('n', fontsize = 15)\n",
    "plt.ylabel('Score', fontsize = 15)\n",
    "plt.legend()\n",
    "plt.show()"
   ]
  },
  {
   "cell_type": "markdown",
   "id": "dab4527a",
   "metadata": {
    "cell_id": "00058-5bf33074-4d82-4479-9975-b0bb5d1d6e70",
    "deepnote_cell_type": "text-cell-p",
    "is_collapsed": false,
    "tags": []
   },
   "source": [
    "O classificador random forest permite ainda ordenar os atributos de acordo com a sua importância."
   ]
  },
  {
   "cell_type": "code",
   "execution_count": null,
   "id": "f4389a49",
   "metadata": {
    "cell_id": "00059-373161ce-1605-4144-90a2-d04604b581f2",
    "deepnote_cell_type": "code",
    "deepnote_output_heights": [
     316.01666259765625
    ],
    "tags": []
   },
   "outputs": [
    {
     "data": {
      "image/png": "[encoded data removed]",
      "text/plain": [
       "<Figure size 432x288 with 1 Axes>"
      ]
     },
     "metadata": {
      "image/png": {
       "height": 317,
       "width": 673
      },
      "needs_background": "light"
     },
     "output_type": "display_data"
    }
   ],
   "source": [
    "importances = model.feature_importances_\n",
    "attributes = df.columns[0:len(df.columns)-1]\n",
    "indices = np.argsort(importances)\n",
    "attributes_rank = []\n",
    "for i in indices:\n",
    "    attributes_rank.append(attributes[i])\n",
    "plt.title('Feature Importances')\n",
    "plt.tight_layout()\n",
    "plt.barh(range(len(indices)), importances[indices], color='b', align='center')\n",
    "plt.yticks(range(len(indices)), attributes_rank, fontsize=25)\n",
    "plt.xlabel('Relative Importance',fontsize=25)\n",
    "plt.xticks(color='k', size=20)\n",
    "plt.yticks(color='k', size=20)\n",
    "plt.xlim([0.0, 0.25])\n",
    "plt.show()"
   ]
  },
  {
   "cell_type": "markdown",
   "id": "4c1fc5ef",
   "metadata": {
    "cell_id": "00069-4dc97f74-c346-4f5a-b132-698e5b78b7fa",
    "deepnote_cell_type": "markdown",
    "tags": []
   },
   "source": [
    "Usando o classificador SGD, precisamos escolher o melhor valor do parâmetro loss."
   ]
  },
  {
   "cell_type": "code",
   "execution_count": null,
   "id": "c431a8ea",
   "metadata": {
    "cell_id": "00070-a1604715-f1c4-48cc-8f14-bdf5e34071a5",
    "deepnote_cell_type": "code",
    "deepnote_output_heights": [
     null,
     325
    ],
    "deepnote_to_be_reexecuted": false,
    "execution_millis": 8966,
    "execution_start": 1638740539091,
    "source_hash": "8423528",
    "tags": []
   },
   "outputs": [
    {
     "name": "stdout",
     "output_type": "stream",
     "text": [
      "Melhor loss: hinge  AUC: 0.6894566859403756\n"
     ]
    },
    {
     "data": {
      "image/png": "[encoded data removed]",
      "text/plain": [
       "<Figure size 720x360 with 1 Axes>"
      ]
     },
     "metadata": {
      "image/png": {
       "height": 323,
       "width": 622
      },
      "needs_background": "light"
     },
     "output_type": "display_data"
    }
   ],
   "source": [
    "from sklearn.linear_model import SGDClassifier\n",
    "from sklearn.model_selection import StratifiedKFold\n",
    "from sklearn.model_selection import KFold\n",
    "from sklearn.metrics import accuracy_score\n",
    "from sklearn.metrics import roc_auc_score\n",
    "\n",
    "cv = StratifiedKFold(n_splits=10, shuffle=True, random_state=42)\n",
    "#cv = KFold(n_splits=10)\n",
    "# enumerate the splits and summarize the distributions\n",
    "mauloss = []\n",
    "macloss = []\n",
    "vloss = []\n",
    "losses = [\"hinge\", \"log\", \"modified_huber\", \"squared_hinge\", \"perceptron\"]\n",
    "for Loss in (losses):\n",
    "    vauloss = []\n",
    "    vacloss = []\n",
    "    for train_index, test_index in cv.split(X, y):\n",
    "        # select rows\n",
    "        x_train, x_test = X[train_index], X[test_index]\n",
    "        y_train, y_test = y[train_index], y[test_index]\n",
    "\n",
    "        model = SGDClassifier(loss = Loss, max_iter = 1000)\n",
    "        model.fit(x_train,y_train)\n",
    "        y_pred = model.predict(x_test) \n",
    "        score = accuracy_score(y_pred, y_test)\n",
    "\n",
    "        vauloss.append(roc_auc_score(y_test, y_pred))\n",
    "        vacloss.append(accuracy_score(y_pred, y_test))\n",
    "    macloss.append(np.mean(vacloss))\n",
    "    mauloss.append(np.mean(vauloss))\n",
    "    vloss.append(Loss)\n",
    "    #print('k:', k)\n",
    "    #print('Average accuracy:', np.mean(vacc))\n",
    "    #print('Average AUC:', np.mean(vauc))\n",
    "best_loss = np.argmax(mauloss)\n",
    "print('Melhor loss:', losses[best_loss], ' AUC:',mauloss[best_loss])\n",
    "plt.figure(figsize=(10,5))\n",
    "plt.plot(vloss, mauloss, '-ro', label= 'AUC')\n",
    "plt.plot(vloss, macloss, '-bo', label = 'Accuracy')\n",
    "plt.xlabel('loss', fontsize = 15)\n",
    "plt.ylabel('Score', fontsize = 15)\n",
    "plt.legend()\n",
    "plt.show()"
   ]
  },
  {
   "cell_type": "markdown",
   "id": "d630f238",
   "metadata": {
    "cell_id": "00060-54709704-7c63-4f00-825d-01df73bc4853",
    "deepnote_cell_type": "markdown",
    "tags": []
   },
   "source": [
    "### Treinamento dos modelos"
   ]
  },
  {
   "cell_type": "code",
   "execution_count": 35,
   "id": "a0b98171",
   "metadata": {
    "cell_id": "00061-1904d57f-fbe9-4a65-9142-b3e99fd03e99",
    "deepnote_cell_type": "code",
    "deepnote_to_be_reexecuted": false,
    "execution_millis": 7,
    "execution_start": 1639606677239,
    "source_hash": "712bdb93",
    "tags": []
   },
   "outputs": [],
   "source": [
    "from sklearn.model_selection import train_test_split\n",
    "X_train, X_test, y_train, y_test = train_test_split(X, y, test_size=0.25, random_state=42)"
   ]
  },
  {
   "cell_type": "markdown",
   "id": "1d4341d8",
   "metadata": {
    "cell_id": "00061-3dcf45f9-82f4-4e94-a12c-bedb7c4531aa",
    "deepnote_cell_type": "markdown",
    "tags": []
   },
   "source": [
    "Vamos treinar o melhor KNN obtido acima:"
   ]
  },
  {
   "cell_type": "code",
   "execution_count": 36,
   "id": "32fd928b",
   "metadata": {
    "cell_id": "00061-c68a3163-4c09-49fe-97a0-69afe58c9da7",
    "deepnote_cell_type": "code",
    "deepnote_output_heights": [
     21.199996948242188
    ],
    "deepnote_to_be_reexecuted": false,
    "execution_millis": 2,
    "execution_start": 1639606681067,
    "source_hash": "936a3f51",
    "tags": []
   },
   "outputs": [
    {
     "data": {
      "text/plain": [
       "KNeighborsClassifier(n_neighbors=1)"
      ]
     },
     "execution_count": 36,
     "metadata": {},
     "output_type": "execute_result"
    }
   ],
   "source": [
    "from sklearn.neighbors import KNeighborsClassifier\n",
    "\n",
    "neigh = KNeighborsClassifier(n_neighbors=1)\n",
    "neigh.fit(X_train, y_train)"
   ]
  },
  {
   "cell_type": "markdown",
   "id": "35d299fa",
   "metadata": {
    "cell_id": "00064-c220f658-66f3-4ac0-b942-aae5e607d7cc",
    "deepnote_cell_type": "markdown",
    "tags": []
   },
   "source": [
    "Agora, para o SVM, temos:"
   ]
  },
  {
   "cell_type": "code",
   "execution_count": null,
   "id": "a6070e7b",
   "metadata": {
    "cell_id": "00065-2c324001-7325-4a2f-a45b-9f91899a434c",
    "deepnote_cell_type": "code",
    "deepnote_output_heights": [
     40.399993896484375
    ],
    "deepnote_to_be_reexecuted": false,
    "execution_millis": 38290,
    "execution_start": 1638740783231,
    "source_hash": "c68f2fd1",
    "tags": []
   },
   "outputs": [
    {
     "data": {
      "text/plain": [
       "Pipeline(steps=[('standardscaler', StandardScaler()),\n",
       "                ('svc', SVC(C=24, gamma='auto', probability=True))])"
      ]
     },
     "execution_count": 18,
     "metadata": {},
     "output_type": "execute_result"
    }
   ],
   "source": [
    "from sklearn.pipeline import make_pipeline\n",
    "from sklearn.preprocessing import StandardScaler\n",
    "from sklearn.svm import SVC\n",
    "\n",
    "clf = make_pipeline(StandardScaler(), SVC(C=24, gamma='auto', probability=True))\n",
    "clf.fit(X_train, y_train)"
   ]
  },
  {
   "cell_type": "markdown",
   "id": "0b194a24",
   "metadata": {
    "cell_id": "00066-b1801308-22d5-4920-b29d-8280a443de0f",
    "deepnote_cell_type": "markdown",
    "tags": []
   },
   "source": [
    "Para o Random Forest, temos:"
   ]
  },
  {
   "cell_type": "code",
   "execution_count": null,
   "id": "5c104242",
   "metadata": {
    "cell_id": "00066-77a23494-3f91-43aa-b961-63824ddad445",
    "deepnote_cell_type": "code",
    "deepnote_output_heights": [
     21.199996948242188
    ],
    "deepnote_to_be_reexecuted": false,
    "execution_millis": 743,
    "execution_start": 1638738844931,
    "source_hash": "6e0f5428",
    "tags": []
   },
   "outputs": [
    {
     "data": {
      "text/plain": [
       "RandomForestClassifier(n_estimators=19)"
      ]
     },
     "execution_count": 38,
     "metadata": {},
     "output_type": "execute_result"
    }
   ],
   "source": [
    "from sklearn.ensemble import RandomForestClassifier\n",
    "\n",
    "rfc = RandomForestClassifier(n_estimators=19)\n",
    "rfc.fit(X_train, y_train)"
   ]
  },
  {
   "cell_type": "markdown",
   "id": "f692c2e3",
   "metadata": {
    "cell_id": "00079-f0d5ff46-587c-45f2-a5a4-dc21db0bc8ac",
    "deepnote_cell_type": "markdown",
    "tags": []
   },
   "source": [
    "Para o SGD, temos:"
   ]
  },
  {
   "cell_type": "code",
   "execution_count": null,
   "id": "9670b552",
   "metadata": {
    "cell_id": "00080-29b5deaf-ebaa-498a-93ff-bc7c1220892a",
    "deepnote_cell_type": "code",
    "deepnote_output_heights": [
     21.199996948242188
    ],
    "deepnote_to_be_reexecuted": false,
    "execution_millis": 542,
    "execution_start": 1638741012301,
    "source_hash": "2cef24bd",
    "tags": []
   },
   "outputs": [],
   "source": [
    "from sklearn.linear_model import SGDClassifier\n",
    "from sklearn.calibration import CalibratedClassifierCV\n",
    "\n",
    "sgd = SGDClassifier(loss='hinge')\n",
    "sgd.fit(X_train, y_train)\n",
    "calibrator = CalibratedClassifierCV(sgd, cv='prefit')\n",
    "model=calibrator.fit(X_train, y_train)"
   ]
  },
  {
   "cell_type": "code",
   "execution_count": null,
   "id": "6cfa55dd",
   "metadata": {
    "cell_id": "00081-9391e989-4599-4c47-aac0-61b215fdc990",
    "deepnote_cell_type": "code",
    "deepnote_output_heights": [
     21.199996948242188
    ],
    "deepnote_to_be_reexecuted": false,
    "execution_millis": 7,
    "execution_start": 1638740673739,
    "source_hash": "9f51fb0",
    "tags": []
   },
   "outputs": [
    {
     "data": {
      "text/plain": [
       "((9247, 17), (11097,))"
      ]
     },
     "execution_count": 64,
     "metadata": {},
     "output_type": "execute_result"
    }
   ],
   "source": [
    "X_train.shape, y_train.shape"
   ]
  },
  {
   "cell_type": "markdown",
   "id": "6e8b58d2",
   "metadata": {
    "cell_id": "00068-99e5539a-9945-4d0f-a38f-98395d5d6dba",
    "deepnote_cell_type": "markdown",
    "tags": []
   },
   "source": [
    "### Predição dos modelos"
   ]
  },
  {
   "cell_type": "markdown",
   "id": "bc7e70f7",
   "metadata": {
    "cell_id": "00069-d3e2a942-2611-4474-ad76-be265bd6530a",
    "deepnote_cell_type": "markdown",
    "tags": []
   },
   "source": [
    "Temos a seguinte previsão pelo modelo KNN:"
   ]
  },
  {
   "cell_type": "code",
   "execution_count": 37,
   "id": "115b3bc2",
   "metadata": {
    "cell_id": "00069-81432c54-2ccb-4ebe-947e-a98649749b83",
    "deepnote_cell_type": "code",
    "deepnote_output_heights": [
     21.199996948242188
    ],
    "deepnote_to_be_reexecuted": false,
    "execution_millis": 1008,
    "execution_start": 1639606687442,
    "source_hash": "53b09267",
    "tags": []
   },
   "outputs": [
    {
     "data": {
      "text/plain": [
       "array([0., 1., 0., ..., 0., 0., 0.])"
      ]
     },
     "execution_count": 37,
     "metadata": {},
     "output_type": "execute_result"
    }
   ],
   "source": [
    "y_pred_knn = neigh.predict(X_test)\n",
    "y_pred_knn"
   ]
  },
  {
   "cell_type": "markdown",
   "id": "bb6b44fe",
   "metadata": {
    "cell_id": "00071-1290ebdb-c2b3-46e2-b5c8-ddb6bdb9c988",
    "deepnote_cell_type": "markdown",
    "tags": []
   },
   "source": [
    "Temos a seguinte previsão pelo modelo SVM:"
   ]
  },
  {
   "cell_type": "code",
   "execution_count": null,
   "id": "da1a6e31",
   "metadata": {
    "cell_id": "00070-1e6542d6-f87e-4ef5-8b4c-75e560cb0cd4",
    "deepnote_cell_type": "code",
    "deepnote_output_heights": [
     21.199996948242188
    ],
    "deepnote_to_be_reexecuted": false,
    "execution_millis": 1476,
    "execution_start": 1638738945285,
    "source_hash": "d4237077",
    "tags": []
   },
   "outputs": [
    {
     "data": {
      "text/plain": [
       "array([1., 0., 0., ..., 0., 0., 0.])"
      ]
     },
     "execution_count": 45,
     "metadata": {},
     "output_type": "execute_result"
    }
   ],
   "source": [
    "y_pred_svm = clf.predict(X_test)\n",
    "y_pred_svm"
   ]
  },
  {
   "cell_type": "markdown",
   "id": "30e2dd31",
   "metadata": {
    "cell_id": "00073-21be3f90-47b7-4b2c-9f5a-3b123e9dd406",
    "deepnote_cell_type": "markdown",
    "tags": []
   },
   "source": [
    "Temos a seguinte previsão pelo modelo Random Forest:"
   ]
  },
  {
   "cell_type": "code",
   "execution_count": null,
   "id": "682c9941",
   "metadata": {
    "cell_id": "00071-18a1190a-2e9f-4783-b2a2-2a3594b5cf4b",
    "deepnote_cell_type": "code",
    "deepnote_output_heights": [
     21.199996948242188
    ],
    "deepnote_to_be_reexecuted": false,
    "execution_millis": 47,
    "execution_start": 1638738949730,
    "source_hash": "e988b8",
    "tags": []
   },
   "outputs": [
    {
     "data": {
      "text/plain": [
       "array([0., 0., 0., ..., 0., 0., 0.])"
      ]
     },
     "execution_count": 46,
     "metadata": {},
     "output_type": "execute_result"
    }
   ],
   "source": [
    "y_pred_rfc = rfc.predict(X_test)\n",
    "y_pred_rfc"
   ]
  },
  {
   "cell_type": "markdown",
   "id": "0deb76de",
   "metadata": {
    "cell_id": "00088-e027d933-a935-4700-afc7-e23e3198b41b",
    "deepnote_cell_type": "text-cell-p",
    "is_collapsed": false,
    "tags": []
   },
   "source": [
    "Temos&nbsp;a&nbsp;seguinte&nbsp;previsão&nbsp;pelo&nbsp;modelo&nbsp;SGD:"
   ]
  },
  {
   "cell_type": "code",
   "execution_count": null,
   "id": "466d05e7",
   "metadata": {
    "cell_id": "00089-42c5412a-3f29-4209-941b-86bab9d07315",
    "deepnote_cell_type": "code",
    "deepnote_output_heights": [
     21.199996948242188
    ],
    "deepnote_to_be_reexecuted": false,
    "execution_millis": 38,
    "execution_start": 1638741028868,
    "source_hash": "279458df",
    "tags": []
   },
   "outputs": [
    {
     "data": {
      "text/plain": [
       "array([0., 0., 0., ..., 0., 0., 0.])"
      ]
     },
     "execution_count": 24,
     "metadata": {},
     "output_type": "execute_result"
    }
   ],
   "source": [
    "y_pred_sgd = model.predict(X_test)\n",
    "y_pred_sgd"
   ]
  },
  {
   "cell_type": "markdown",
   "id": "34614900",
   "metadata": {
    "cell_id": "00062-659c7770-4e7e-487d-a624-66a6f757c0c8",
    "deepnote_cell_type": "markdown",
    "tags": []
   },
   "source": [
    "### Avaliação dos modelos"
   ]
  },
  {
   "cell_type": "markdown",
   "id": "5c562e11",
   "metadata": {
    "cell_id": "00069-09dee4fc-9f9e-421d-becb-17ea3c50c256",
    "deepnote_cell_type": "text-cell-p",
    "is_collapsed": false,
    "tags": []
   },
   "source": [
    "Vamos utilizar como métrica de comparação de qualidade a AUC, pois a base é desbalanceada."
   ]
  },
  {
   "cell_type": "markdown",
   "id": "5e57f62d",
   "metadata": {
    "cell_id": "00071-9ff54c39-419a-41f8-8de3-df03c395756d",
    "deepnote_cell_type": "markdown",
    "tags": []
   },
   "source": [
    "Para o KNN, temos a seguinte curva AUC:"
   ]
  },
  {
   "cell_type": "code",
   "execution_count": 38,
   "id": "0b7dab8e",
   "metadata": {
    "cell_id": "00066-c1085dd6-cc6a-4500-a02f-efa4539379fc",
    "deepnote_cell_type": "code",
    "deepnote_output_heights": [
     250
    ],
    "deepnote_to_be_reexecuted": false,
    "execution_millis": 1321,
    "execution_start": 1639606694581,
    "source_hash": "68a4c585",
    "tags": []
   },
   "outputs": [
    {
     "data": {
      "image/png": "[encoded data removed]",
      "text/plain": [
       "<Figure size 432x288 with 1 Axes>"
      ]
     },
     "metadata": {
      "image/png": {
       "height": 248,
       "width": 372
      },
      "needs_background": "light"
     },
     "output_type": "display_data"
    }
   ],
   "source": [
    "from sklearn.metrics import roc_auc_score, roc_curve\n",
    "\n",
    "y_pred_proba_knn = neigh.predict_proba(X_test)[::,1]\n",
    "fpr, tpr, _ = roc_curve(y_test, y_pred_proba_knn)\n",
    "auc_knn = roc_auc_score(y_test, y_pred_proba_knn)\n",
    "plt.plot(fpr,tpr,label=\"KNN, AUC=\"+str(auc_knn))\n",
    "plt.legend(loc=4)\n",
    "plt.show()"
   ]
  },
  {
   "cell_type": "markdown",
   "id": "d28c72f0",
   "metadata": {
    "cell_id": "00074-2382185c-da06-4e9c-bede-fdf158816392",
    "deepnote_cell_type": "text-cell-p",
    "is_collapsed": false,
    "tags": []
   },
   "source": [
    "Para&nbsp;o&nbsp;SVM,&nbsp;temos&nbsp;a&nbsp;seguinte&nbsp;curva&nbsp;AUC:"
   ]
  },
  {
   "cell_type": "code",
   "execution_count": null,
   "id": "00e9609f",
   "metadata": {
    "cell_id": "00068-0be9c40a-c82c-42f9-a0e0-bc2fbce2040b",
    "deepnote_cell_type": "code",
    "deepnote_output_heights": [
     250
    ],
    "deepnote_to_be_reexecuted": false,
    "execution_millis": 1849,
    "execution_start": 1638738961876,
    "source_hash": "b035e5c",
    "tags": []
   },
   "outputs": [
    {
     "data": {
      "image/png": "[encoded data removed]",
      "text/plain": [
       "<Figure size 432x288 with 1 Axes>"
      ]
     },
     "metadata": {
      "image/png": {
       "height": 248,
       "width": 372
      },
      "needs_background": "light"
     },
     "output_type": "display_data"
    }
   ],
   "source": [
    "from sklearn.metrics import roc_auc_score, roc_curve\n",
    "\n",
    "y_pred_proba_clf = clf.predict_proba(X_test)[::,1]\n",
    "fpr, tpr, _ = roc_curve(y_test, y_pred_proba_clf)\n",
    "auc_clf = roc_auc_score(y_test, y_pred_proba_clf)\n",
    "plt.plot(fpr,tpr,label=\"SVM, AUC=\"+str(auc_clf))\n",
    "plt.legend(loc=4)\n",
    "plt.show()"
   ]
  },
  {
   "cell_type": "markdown",
   "id": "54e6fe9d",
   "metadata": {
    "cell_id": "00076-be13de96-bd80-448f-8cae-999f319e2675",
    "deepnote_cell_type": "text-cell-p",
    "is_collapsed": false,
    "tags": []
   },
   "source": [
    "Para&nbsp;o&nbsp;Random Forest,&nbsp;temos&nbsp;a&nbsp;seguinte&nbsp;curva&nbsp;AUC:"
   ]
  },
  {
   "cell_type": "code",
   "execution_count": null,
   "id": "2a832a5b",
   "metadata": {
    "cell_id": "00069-f28ef09e-34d2-4354-b3b7-89d9aafc0b57",
    "deepnote_cell_type": "code",
    "deepnote_output_heights": [
     250
    ],
    "deepnote_to_be_reexecuted": false,
    "execution_millis": 474,
    "execution_start": 1638738872842,
    "source_hash": "9bd36b24",
    "tags": []
   },
   "outputs": [
    {
     "data": {
      "image/png": "[encoded data removed]",
      "text/plain": [
       "<Figure size 432x288 with 1 Axes>"
      ]
     },
     "metadata": {
      "image/png": {
       "height": 248,
       "width": 372
      },
      "needs_background": "light"
     },
     "output_type": "display_data"
    }
   ],
   "source": [
    "from sklearn.metrics import roc_auc_score, roc_curve\n",
    "\n",
    "y_pred_proba_rfc = rfc.predict_proba(X_test)[::,1]\n",
    "fpr, tpr, _ = roc_curve(y_test, y_pred_proba_rfc)\n",
    "auc_rfc = roc_auc_score(y_test, y_pred_proba_rfc)\n",
    "plt.plot(fpr,tpr,label=\"Random Forest, AUC=\"+str(auc_rfc))\n",
    "plt.legend(loc=4)\n",
    "plt.show()"
   ]
  },
  {
   "cell_type": "markdown",
   "id": "4b3fd625",
   "metadata": {
    "cell_id": "00099-7ad3e797-aaef-4012-ae8c-03393e38abd1",
    "deepnote_cell_type": "markdown",
    "tags": []
   },
   "source": [
    "Para o SGD, temos a seguinte curva AUC:"
   ]
  },
  {
   "cell_type": "code",
   "execution_count": null,
   "id": "1ba0ef30",
   "metadata": {
    "cell_id": "00100-91194a6c-e0ad-4633-bed7-70a74f50f728",
    "deepnote_cell_type": "code",
    "deepnote_output_heights": [
     250
    ],
    "deepnote_to_be_reexecuted": false,
    "execution_millis": 778,
    "execution_start": 1638741042716,
    "source_hash": "9fc85c59",
    "tags": []
   },
   "outputs": [
    {
     "data": {
      "image/png": "[encoded data removed]",
      "text/plain": [
       "<Figure size 432x288 with 1 Axes>"
      ]
     },
     "metadata": {
      "image/png": {
       "height": 248,
       "width": 372
      },
      "needs_background": "light"
     },
     "output_type": "display_data"
    }
   ],
   "source": [
    "from sklearn.metrics import roc_auc_score, roc_curve\n",
    "\n",
    "y_pred_proba_sgd = model.predict_proba(X_test)[::,1]\n",
    "fpr, tpr, _ = roc_curve(y_test, y_pred_proba_sgd)\n",
    "auc_sgd = roc_auc_score(y_test, y_pred_proba_sgd)\n",
    "plt.plot(fpr,tpr,label=\"Stochastic Gradient Descent, AUC=\"+str(auc_sgd))\n",
    "plt.legend(loc=4)\n",
    "plt.show()"
   ]
  },
  {
   "cell_type": "markdown",
   "id": "99e45466",
   "metadata": {
    "cell_id": "00074-1c3573b3-2d91-42b7-b7df-a908e175bb54",
    "deepnote_cell_type": "text-cell-p",
    "is_collapsed": false,
    "tags": []
   },
   "source": [
    "Após os resultados, a melhor AUC é do Random Forest."
   ]
  },
  {
   "cell_type": "markdown",
   "id": "b710b032",
   "metadata": {
    "cell_id": "00066-7ad67ee1-6935-405c-92b0-c02b99e3c165",
    "deepnote_cell_type": "markdown",
    "tags": []
   },
   "source": [
    "### Interpretação dos resultados"
   ]
  },
  {
   "cell_type": "markdown",
   "id": "1e1bbd88",
   "metadata": {
    "cell_id": "00094-694d6173-8c8e-41d0-bfba-0a45339c2c1f",
    "deepnote_cell_type": "text-cell-p",
    "is_collapsed": false,
    "tags": []
   },
   "source": [
    "Abaixo temos a matriz de confusão para o Random Forest, para verificarmos se os verdadeiros negativos e os verdadeiros positivos possuem bons resultados."
   ]
  },
  {
   "cell_type": "code",
   "execution_count": null,
   "id": "f9f62ae2",
   "metadata": {
    "cell_id": "00094-568a770c-510c-4fac-8b99-08dbe9eaaaf5",
    "deepnote_cell_type": "code",
    "deepnote_output_heights": [
     21.199996948242188,
     359
    ],
    "deepnote_to_be_reexecuted": false,
    "execution_millis": 469,
    "execution_start": 1638738967931,
    "source_hash": "ef5d6526",
    "tags": []
   },
   "outputs": [
    {
     "data": {
      "text/plain": [
       "<AxesSubplot:>"
      ]
     },
     "execution_count": 49,
     "metadata": {},
     "output_type": "execute_result"
    },
    {
     "data": {
      "image/png": "[encoded data removed]",
      "text/plain": [
       "<Figure size 432x432 with 2 Axes>"
      ]
     },
     "metadata": {
      "image/png": {
       "height": 357,
       "width": 364
      },
      "needs_background": "light"
     },
     "output_type": "display_data"
    }
   ],
   "source": [
    "from sklearn.ensemble import RandomForestClassifier\n",
    "from sklearn.metrics import confusion_matrix\n",
    "from sklearn.metrics import classification_report\n",
    "import seaborn as sns\n",
    "\n",
    "cm = confusion_matrix(y_test, y_pred_rfc)\n",
    "plt.rcParams['figure.figsize'] = (6, 6)\n",
    "sns.heatmap(cm ,annot = True)"
   ]
  },
  {
   "cell_type": "markdown",
   "id": "2913c30c",
   "metadata": {
    "cell_id": "00095-33b6ff28-8ade-486c-8854-0d5c28d92e18",
    "deepnote_cell_type": "text-cell-p",
    "is_collapsed": false,
    "tags": []
   },
   "source": [
    "Os verdadeiros negativos deram bons resultados, pois como visto abaixo existe uma quantidade muito maior de zeros na variável resposta. E os verdadeiros positivos também deram resultados condizentes, pois estão em menor proporção."
   ]
  },
  {
   "cell_type": "code",
   "execution_count": null,
   "id": "ce907dc9",
   "metadata": {
    "cell_id": "00095-a9c522ed-9afc-4722-a718-54e3e8cd6a17",
    "deepnote_cell_type": "code",
    "deepnote_output_heights": [
     59.600006103515625
    ],
    "deepnote_to_be_reexecuted": false,
    "execution_millis": 212,
    "execution_start": 1638739147182,
    "source_hash": "57a1defa",
    "tags": []
   },
   "outputs": [
    {
     "data": {
      "text/plain": [
       "0.0    10422\n",
       "1.0     1908\n",
       "Name: Revenue, dtype: int64"
      ]
     },
     "execution_count": 50,
     "metadata": {},
     "output_type": "execute_result"
    }
   ],
   "source": [
    "df['Revenue'].value_counts()"
   ]
  },
  {
   "cell_type": "markdown",
   "id": "a2285aa9",
   "metadata": {
    "cell_id": "00098-175b2fb6-d66b-4acb-994b-8fab9e40c026",
    "deepnote_cell_type": "text-cell-p",
    "is_collapsed": false,
    "tags": []
   },
   "source": [
    "Devido a base não conter valores nulos, o tratamento de valores faltantes não foi feito, evitando mais um tipo de tratamento nos dados. Como a base já estava pronta para a modelagem, foi possível obter uma boa AUC."
   ]
  },
  {
   "cell_type": "markdown",
   "id": "fe7af697",
   "metadata": {
    "cell_id": "00101-2dcafdaa-5201-4940-b8a0-39dcc153d89a",
    "deepnote_cell_type": "text-cell-p",
    "is_collapsed": false,
    "tags": []
   },
   "source": [
    "Outra contribuição para obter um bom resultado final, foi o uso do StandardScaler, para normalizar a base e garantir que diferenças de escala não influenciem no treinamento dos modelos."
   ]
  },
  {
   "cell_type": "markdown",
   "id": "2218e32b",
   "metadata": {
    "cell_id": "00109-467f32dd-b50f-404a-b9eb-1f4114d22958",
    "deepnote_cell_type": "markdown",
    "tags": []
   },
   "source": [
    "Vemos que a curva AUC do modelo treinado com o KNN é diferente das demais, pois possui uma curva menos suave que as demais. Além disso, ela apresenta a menor AUC dos modelos utilizados e o eixo Y da curva indica que tem mais quantidade de TP do que de FN. "
   ]
  },
  {
   "cell_type": "markdown",
   "id": "db8eb0ba",
   "metadata": {
    "cell_id": "00110-d5feb7e2-e6b5-4318-9441-b1c2dbc2e854",
    "deepnote_cell_type": "markdown",
    "tags": []
   },
   "source": [
    "Seria possível utilizar outra métrica de desempenho caso a base fosse balanceada, como a acurácia. É possível aplicar métodos de balanceamento, mas optamos por não utilizar tais técnicas, pois podem afetar o desempenho dos modelos."
   ]
  }
 ],
 "metadata": {
  "deepnote": {},
  "deepnote_execution_queue": [],
  "deepnote_notebook_id": "5c64f5e3-414f-4843-b186-6abf0cb33718",
  "kernelspec": {
   "display_name": "Python 3",
   "language": "python",
   "name": "python3"
  },
  "language_info": {
   "codemirror_mode": {
    "name": "ipython",
    "version": 3
   },
   "file_extension": ".py",
   "mimetype": "text/x-python",
   "name": "python",
   "nbconvert_exporter": "python",
   "pygments_lexer": "ipython3",
   "version": "3.8.5"
  }
 },
 "nbformat": 4,
 "nbformat_minor": 5
}
